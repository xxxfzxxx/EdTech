{
 "cells": [
  {
   "cell_type": "code",
   "execution_count": 1,
   "metadata": {},
   "outputs": [],
   "source": [
    "import pandas as pd\n",
    "import copy\n",
    "import matplotlib.pyplot as plt\n",
    "import seaborn as sns\n",
    "import numpy as np\n",
    "from scipy.stats import norm\n",
    "from sklearn.metrics import roc_curve, accuracy_score\n",
    "from sklearn.preprocessing import StandardScaler\n",
    "from scipy import stats\n",
    "from sklearn.model_selection import StratifiedKFold\n",
    "import warnings\n",
    "from imblearn.combine import SMOTEENN\n",
    "from imblearn.combine import SMOTETomek\n",
    "warnings.filterwarnings('ignore')\n",
    "%matplotlib inline"
   ]
  },
  {
   "cell_type": "markdown",
   "metadata": {},
   "source": [
    "#### 1、训练四分类器 M1"
   ]
  },
  {
   "cell_type": "code",
   "execution_count": 2,
   "metadata": {},
   "outputs": [],
   "source": [
    "train = pd.read_csv('EdTech_train_data.csv')\n",
    "X = train.drop(['No','rank'],axis=1)\n",
    "y = train['rank']\n",
    "test = pd.read_csv('EdTech_test_data.csv')"
   ]
  },
  {
   "cell_type": "code",
   "execution_count": 3,
   "metadata": {},
   "outputs": [],
   "source": [
    "#数据标准化\n",
    "from sklearn import preprocessing\n",
    "# standardize the data attributes\n",
    "standardized_X = preprocessing.scale(X)\n",
    "# normalize the data attributes\n",
    "normalized_X = preprocessing.normalize(X)"
   ]
  },
  {
   "cell_type": "code",
   "execution_count": 4,
   "metadata": {},
   "outputs": [
    {
     "name": "stdout",
     "output_type": "stream",
     "text": [
      "accuracy: 0.9120879120879121\n",
      "accuracy: 0.8791208791208791\n",
      "accuracy: 0.8681318681318682\n",
      "accuracy: 0.8888888888888888\n",
      "accuracy: 0.9111111111111111\n",
      "accuracy: 0.9111111111111111\n",
      "accuracy: 0.8555555555555555\n",
      "accuracy: 0.8666666666666667\n",
      "accuracy: 0.9101123595505618\n",
      "accuracy: 0.9090909090909091\n",
      "mean_acc 0.8911877261315462\n"
     ]
    }
   ],
   "source": [
    "from sklearn.ensemble import RandomForestClassifier\n",
    "from sklearn.metrics import confusion_matrix\n",
    "skf = StratifiedKFold(n_splits=10,shuffle=True,random_state=0)\n",
    "accs = []\n",
    "conf_mats=[]\n",
    "# np_X = X.values\n",
    "# np_y = y.values\n",
    "model = RandomForestClassifier(n_estimators=100, random_state=2, max_depth=100)\n",
    "for train_index, test_index in skf.split(X, y):\n",
    "    X_train, X_test = X.loc[train_index], X.loc[test_index]\n",
    "    y_train, y_test = y[train_index], y[test_index]\n",
    "    model.fit(X_train,y_train)\n",
    "    y_pred = model.predict(X_test)\n",
    "    labels = list(set(y_test))\n",
    "    conf_mat = confusion_matrix(y_test, y_pred, labels = labels)\n",
    "    conf_mats.append(conf_mat)\n",
    "    acc = accuracy_score(y_test,y_pred)\n",
    "    accs.append(acc)\n",
    "    print('accuracy:', acc)\n",
    "print('mean_acc',np.mean(np.array(accs)))"
   ]
  },
  {
   "cell_type": "markdown",
   "metadata": {},
   "source": [
    "查看混淆矩阵"
   ]
  },
  {
   "cell_type": "code",
   "execution_count": 5,
   "metadata": {},
   "outputs": [
    {
     "name": "stdout",
     "output_type": "stream",
     "text": [
      "[[ 87.  73.   0.   0.]\n",
      " [ 24. 214.   1.   0.]\n",
      " [  0.   0. 333.   0.]\n",
      " [  0.   0.   0. 168.]]\n"
     ]
    }
   ],
   "source": [
    "conf_mat_total = np.zeros( (4,4) )\n",
    "for i in range(10):\n",
    "    conf_mat_total +=conf_mats[i]\n",
    "print(conf_mat_total)\n",
    "#可以看到影响模型分类性能的最主要是0和1分类不清楚"
   ]
  },
  {
   "cell_type": "markdown",
   "metadata": {},
   "source": [
    "#### 2、划分交叉验证数据集"
   ]
  },
  {
   "cell_type": "code",
   "execution_count": 6,
   "metadata": {},
   "outputs": [],
   "source": [
    "skf = StratifiedKFold(n_splits=10,shuffle=True,random_state=0)\n",
    "train_indexes = []\n",
    "test_indexes = []\n",
    "for train_index, test_index in skf.split(X, y):\n",
    "    train_indexes.append(train_index)\n",
    "    test_indexes.append(test_index)\n",
    "#取第二折当验证集\n",
    "X_train, X_test = X.loc[train_indexes[6]], X.loc[test_indexes[6]]\n",
    "y_train, y_test = y.loc[train_indexes[6]], y.loc[test_indexes[6]]"
   ]
  },
  {
   "cell_type": "markdown",
   "metadata": {},
   "source": [
    "一、训练过程"
   ]
  },
  {
   "cell_type": "markdown",
   "metadata": {},
   "source": [
    "1)训练四分类模型Model1"
   ]
  },
  {
   "cell_type": "code",
   "execution_count": 7,
   "metadata": {},
   "outputs": [
    {
     "name": "stdout",
     "output_type": "stream",
     "text": [
      "accuracy: 0.8555555555555555\n",
      "conf_mat:\n",
      " [[ 6 10  0  0]\n",
      " [ 3 21  0  0]\n",
      " [ 0  0 33  0]\n",
      " [ 0  0  0 17]]\n"
     ]
    }
   ],
   "source": [
    "Model1 = RandomForestClassifier(n_estimators=100, random_state=2)\n",
    "Model1.fit(X_train,y_train)\n",
    "y_pred = Model1.predict(X_test)\n",
    "labels = list(set(y_test))\n",
    "conf_mat = confusion_matrix(y_test, y_pred, labels = labels)\n",
    "acc = accuracy_score(y_test,y_pred)\n",
    "print('accuracy:', acc)\n",
    "print('conf_mat:\\n',conf_mat)\n",
    "#很容易将0预测为1"
   ]
  },
  {
   "cell_type": "markdown",
   "metadata": {},
   "source": [
    "2)训练三分类模型Model2"
   ]
  },
  {
   "cell_type": "code",
   "execution_count": 8,
   "metadata": {},
   "outputs": [
    {
     "name": "stdout",
     "output_type": "stream",
     "text": [
      "accuracy: 0.8222222222222222\n",
      "conf_mat:\n",
      " [[ 0 16  0  0]\n",
      " [ 0 24  0  0]\n",
      " [ 0  0 33  0]\n",
      " [ 0  0  0 17]]\n"
     ]
    }
   ],
   "source": [
    "Model2 = RandomForestClassifier(n_estimators=100, random_state=2, max_depth=100)\n",
    "Model2.fit(X_train.loc[y_train!=0],y_train.loc[y_train!=0]) \n",
    "y_pred = Model2.predict(X_test)\n",
    "labels = list(set(y_test))\n",
    "conf_mat = confusion_matrix(y_test, y_pred, labels = labels)\n",
    "acc = accuracy_score(y_test,y_pred)\n",
    "print('accuracy:', acc)\n",
    "print('conf_mat:\\n',conf_mat)\n",
    "#对测试集里为123的基本预测正确"
   ]
  },
  {
   "cell_type": "markdown",
   "metadata": {},
   "source": [
    "3)训练二分类模型Model3"
   ]
  },
  {
   "cell_type": "code",
   "execution_count": 9,
   "metadata": {},
   "outputs": [
    {
     "name": "stdout",
     "output_type": "stream",
     "text": [
      "accuracy: 0.8666666666666667\n",
      "conf_mat:\n",
      " [[ 6 10]\n",
      " [ 2 72]]\n"
     ]
    }
   ],
   "source": [
    "y_train_M3 = copy.deepcopy(y_train)\n",
    "y_test_M3 = copy.deepcopy(y_test)\n",
    "y_train_M3[y_train_M3!=0]=123\n",
    "y_test_M3[y_test_M3!=0]=123\n",
    "from xgboost import XGBClassifier\n",
    "from sklearn.ensemble import AdaBoostClassifier\n",
    "Model3 = RandomForestClassifier(n_estimators=100, random_state=2, class_weight={0: 5, 123:1})\n",
    "# Model3 = AdaBoostClassifier()\n",
    "# Model3 = XGBClassifier(n_estimators=10)\n",
    "# sm = SMOTEENN()\n",
    "# sm = SMOTETomek()\n",
    "# X_resampled, y_resampled = sm.fit_sample(X_train,y_train_M3)\n",
    "# Model3.fit(X_resampled, y_resampled)\n",
    "Model3.fit(X_train,y_train_M3)\n",
    "y_pred = Model3.predict(X_test.values)\n",
    "labels = list(set(y_test_M3))\n",
    "conf_mat = confusion_matrix(y_test_M3, y_pred, labels = labels)\n",
    "acc = accuracy_score(y_test_M3,y_pred)\n",
    "print('accuracy:', acc)\n",
    "print('conf_mat:\\n',conf_mat)\n",
    "#0更容易错分为123"
   ]
  },
  {
   "cell_type": "markdown",
   "metadata": {},
   "source": [
    "使用imbalanced learn"
   ]
  },
  {
   "cell_type": "markdown",
   "metadata": {},
   "source": [
    "二、预测过程"
   ]
  },
  {
   "cell_type": "code",
   "execution_count": 10,
   "metadata": {},
   "outputs": [],
   "source": [
    "#先用四分类模型M1判断是属于 0123四个类中的哪一个\n",
    "y_pred_M1 = Model1.predict(X_test)\n",
    "#再用二分类模型M3判断是属于0还是123\n",
    "y_pred_M3 = Model3.predict(X_test)\n",
    "#三分类模型M2判断是属于123中的哪一个\n",
    "y_pred_M2 = Model2.predict(X_test)"
   ]
  },
  {
   "cell_type": "code",
   "execution_count": 11,
   "metadata": {},
   "outputs": [],
   "source": [
    "#M1和M3两个都说属于0，那就真是0\n",
    "y_pred = []\n",
    "for i in range(len(y_pred_M1)):\n",
    "    y_pred.append('nan')\n",
    "    \n",
    "for i in range(len(y_pred)):\n",
    "    if y_pred_M1[i] == 0 and y_pred_M3[i]==0:\n",
    "        y_pred[i]=0"
   ]
  },
  {
   "cell_type": "code",
   "execution_count": 12,
   "metadata": {},
   "outputs": [],
   "source": [
    "#M1和M3两个都说属于123，那就用M2（三分类模型）的预测值\n",
    "for i in range(len(y_pred)):\n",
    "    if y_pred_M1[i] !=0 and y_pred_M3[i]==123:\n",
    "        y_pred[i]= y_pred_M2[i]"
   ]
  },
  {
   "cell_type": "code",
   "execution_count": 13,
   "metadata": {},
   "outputs": [],
   "source": [
    "#M1说0，M3说123，使用M1的结果预测为0\n",
    "for i in range(len(y_pred)):\n",
    "    if y_pred_M1[i] ==0 and y_pred_M3[i]==123:\n",
    "        y_pred[i]= y_pred_M1[i]"
   ]
  },
  {
   "cell_type": "code",
   "execution_count": 14,
   "metadata": {},
   "outputs": [],
   "source": [
    "#M3说0，M1说123，如M1预测值为1，则用M3的结果0，否则用M1的结果\n",
    "for i in range(len(y_pred)):\n",
    "    if y_pred_M1[i] !=0 and y_pred_M3[i]==0:\n",
    "        if y_pred_M1[i] ==1:\n",
    "            y_pred[i]= 0\n",
    "        else:\n",
    "            y_pred[i]= y_pred_M1[i]"
   ]
  },
  {
   "cell_type": "code",
   "execution_count": 15,
   "metadata": {},
   "outputs": [
    {
     "name": "stdout",
     "output_type": "stream",
     "text": [
      "accuracy: 0.8444444444444444\n",
      "conf_mat:\n",
      " [[ 6 10  0  0]\n",
      " [ 4 20  0  0]\n",
      " [ 0  0 33  0]\n",
      " [ 0  0  0 17]]\n"
     ]
    }
   ],
   "source": [
    "acc = accuracy_score(y_test,y_pred)\n",
    "print('accuracy:', acc)\n",
    "labels = list(set(y_pred))\n",
    "conf_mat = confusion_matrix(y_test, y_pred, labels = labels)\n",
    "print('conf_mat:\\n',conf_mat)\n",
    "#性能由原来的0.86上升到了0.89"
   ]
  },
  {
   "cell_type": "markdown",
   "metadata": {},
   "source": [
    "该问题最主要的痛点就是如何辨别rank是属于0还是123  \n",
    "相当于将原来的四分类问题转化成了二分类问题"
   ]
  },
  {
   "cell_type": "markdown",
   "metadata": {},
   "source": [
    "3、交叉验证使用该方法"
   ]
  },
  {
   "cell_type": "code",
   "execution_count": 16,
   "metadata": {},
   "outputs": [],
   "source": [
    "from xgboost import XGBClassifier\n",
    "from sklearn.ensemble import RandomForestClassifier\n",
    "from sklearn.ensemble import ExtraTreesClassifier\n",
    "from sklearn.ensemble import AdaBoostClassifier\n",
    "from sklearn.linear_model import LogisticRegression\n",
    "from sklearn.ensemble import GradientBoostingClassifier,ExtraTreesClassifier"
   ]
  },
  {
   "cell_type": "code",
   "execution_count": 17,
   "metadata": {},
   "outputs": [
    {
     "name": "stdout",
     "output_type": "stream",
     "text": [
      "accuracy: 0.9120879120879121\n",
      "accuracy: 0.9120879120879121\n",
      "accuracy: 0.8901098901098901\n",
      "accuracy: 0.8777777777777778\n",
      "accuracy: 0.9111111111111111\n",
      "accuracy: 0.9111111111111111\n",
      "accuracy: 0.8333333333333334\n",
      "accuracy: 0.8666666666666667\n",
      "accuracy: 0.9101123595505618\n",
      "accuracy: 0.9090909090909091\n",
      "mean_acc 0.8933488982927184\n"
     ]
    }
   ],
   "source": [
    "from sklearn.ensemble import RandomForestClassifier\n",
    "from sklearn.metrics import confusion_matrix\n",
    "skf = StratifiedKFold(n_splits=10,shuffle=True,random_state=0)\n",
    "accs = []\n",
    "conf_mats=[]\n",
    "for train_index, test_index in skf.split(X, y):\n",
    "    X_train, X_test = X.loc[train_index], X.loc[test_index]\n",
    "    y_train, y_test = y.loc[train_index], y.loc[test_index]\n",
    "    Model1 = RandomForestClassifier(n_estimators=100, random_state=2)\n",
    "    \n",
    "    Model1.fit(X_train,y_train)\n",
    "    Model2 = RandomForestClassifier(n_estimators=100, random_state=3)\n",
    "    Model2.fit(X_train.loc[y_train!=0],y_train.loc[y_train!=0]) \n",
    "    y_train_M3 = copy.deepcopy(y_train)\n",
    "    y_test_M3 = copy.deepcopy(y_test)\n",
    "    y_train_M3[y_train_M3!=0]=123\n",
    "\n",
    "    Model3 = RandomForestClassifier(n_estimators=100, random_state=2, class_weight={0: 10, 123:1})\n",
    "    Model3.fit(X_train,y_train_M3)\n",
    "\n",
    "#     Model3.fit(X_resampled, y_resampled)\n",
    "    #先用四分类模型M1判断是属于 0123四个类中的哪一个\n",
    "    y_pred_M1 = Model1.predict(X_test)\n",
    "    #再用二分类模型M3判断是属于0还是123\n",
    "    y_pred_M3 = Model3.predict(X_test)\n",
    "    #三分类模型M2判断是属于123中的哪一个\n",
    "    y_pred_M2 = Model2.predict(X_test)\n",
    "    \n",
    "    y_pred = []\n",
    "    for i in range(len(y_pred_M1)):\n",
    "        y_pred.append('nan')\n",
    "    #M1和M3两个都说属于0，那就真是0\n",
    "    for i in range(len(y_pred)):\n",
    "        if y_pred_M1[i] == 0 and y_pred_M3[i]==0:\n",
    "            y_pred[i]=0\n",
    "    #M1和M3两个都说属于123，那就用M2（三分类模型）的预测值\n",
    "    for i in range(len(y_pred)):\n",
    "        if y_pred_M1[i] !=0 and y_pred_M3[i]==123:\n",
    "            y_pred[i]= y_pred_M2[i]\n",
    "    #M1说0，M3说123，使用M1的结果预测为0\n",
    "    for i in range(len(y_pred)):\n",
    "        if y_pred_M1[i] ==0 and y_pred_M3[i]==123:\n",
    "            y_pred[i]= y_pred_M1[i] \n",
    "    #M3说0，M1说123，如M1预测值为1，则用M3的结果0，否则用M1的结果\n",
    "    for i in range(len(y_pred)):\n",
    "        if y_pred_M1[i] !=0 and y_pred_M3[i]==0:\n",
    "            y_pred[i]= 0\n",
    "            if y_pred_M1[i] ==1:\n",
    "                y_pred[i]= 0\n",
    "            else:\n",
    "                y_pred[i]= y_pred_M1[i]\n",
    "                \n",
    "    acc = accuracy_score(y_test,y_pred)\n",
    "    print('accuracy:', acc)\n",
    "    labels = list(set(y_pred))\n",
    "    conf_mat = confusion_matrix(y_test, y_pred, labels = labels)\n",
    "#     print('conf_mat:\\n',conf_mat)\n",
    "    accs.append(acc)\n",
    "print('mean_acc',np.mean(np.array(accs)))"
   ]
  },
  {
   "cell_type": "markdown",
   "metadata": {},
   "source": [
    "### 4、预测输出"
   ]
  },
  {
   "cell_type": "code",
   "execution_count": 18,
   "metadata": {},
   "outputs": [],
   "source": [
    "train = pd.read_csv('EdTech_train_data.csv')\n",
    "X_train = train.drop(['No','rank'],axis=1)\n",
    "y_train = train['rank']\n",
    "test = pd.read_csv('EdTech_test_data.csv')\n",
    "X_test = test.drop(['No'],axis=1)"
   ]
  },
  {
   "cell_type": "code",
   "execution_count": 19,
   "metadata": {},
   "outputs": [],
   "source": [
    "Model1 = RandomForestClassifier(n_estimators=100, random_state=2)\n",
    "Model1.fit(X_train,y_train)\n",
    "\n",
    "Model2 = RandomForestClassifier(n_estimators=100, random_state=3)\n",
    "Model2.fit(X_train.loc[y_train!=0],y_train.loc[y_train!=0]) \n",
    "\n",
    "y_train_M3 = copy.deepcopy(y_train)\n",
    "y_test_M3 = copy.deepcopy(y_test)\n",
    "y_train_M3[y_train_M3!=0]=123\n",
    "\n",
    "Model3 = RandomForestClassifier(n_estimators=100, random_state=2, class_weight={0: 10, 123:1})\n",
    "Model3.fit(X_train,y_train_M3)\n",
    "\n",
    "#     Model3.fit(X_resampled, y_resampled)\n",
    "#先用四分类模型M1判断是属于 0123四个类中的哪一个\n",
    "y_pred_M1 = Model1.predict(X_test)\n",
    "#再用二分类模型M3判断是属于0还是123\n",
    "y_pred_M3 = Model3.predict(X_test)\n",
    "#三分类模型M2判断是属于123中的哪一个\n",
    "y_pred_M2 = Model2.predict(X_test)\n",
    "\n",
    "y_pred = []\n",
    "for i in range(len(y_pred_M1)):\n",
    "    y_pred.append('nan')\n",
    "#M1和M3两个都说属于0，那就真是0\n",
    "for i in range(len(y_pred)):\n",
    "    if y_pred_M1[i] == 0 and y_pred_M3[i]==0:\n",
    "        y_pred[i]=0\n",
    "#M1和M3两个都说属于123，那就用M2（三分类模型）的预测值\n",
    "for i in range(len(y_pred)):\n",
    "    if y_pred_M1[i] !=0 and y_pred_M3[i]==123:\n",
    "        y_pred[i]= y_pred_M2[i]\n",
    "#M1说0，M3说123，使用M1的结果预测为0\n",
    "for i in range(len(y_pred)):\n",
    "    if y_pred_M1[i] ==0 and y_pred_M3[i]==123:\n",
    "        y_pred[i]= y_pred_M1[i] \n",
    "#M3说0，M1说123，如M1预测值为1，则用M3的结果0，否则用M1的结果\n",
    "for i in range(len(y_pred)):\n",
    "    if y_pred_M1[i] !=0 and y_pred_M3[i]==0:\n",
    "        y_pred[i]= 0\n",
    "        if y_pred_M1[i] ==1:\n",
    "            y_pred[i]= 0\n",
    "        else:\n",
    "            y_pred[i]= y_pred_M1[i]"
   ]
  },
  {
   "cell_type": "code",
   "execution_count": null,
   "metadata": {},
   "outputs": [],
   "source": []
  }
 ],
 "metadata": {
  "kernelspec": {
   "display_name": "Python 3",
   "language": "python",
   "name": "python3"
  },
  "language_info": {
   "codemirror_mode": {
    "name": "ipython",
    "version": 3
   },
   "file_extension": ".py",
   "mimetype": "text/x-python",
   "name": "python",
   "nbconvert_exporter": "python",
   "pygments_lexer": "ipython3",
   "version": "3.6.5"
  }
 },
 "nbformat": 4,
 "nbformat_minor": 2
}
