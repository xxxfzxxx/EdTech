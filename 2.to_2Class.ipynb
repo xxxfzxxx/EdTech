{
 "cells": [
  {
   "cell_type": "code",
   "execution_count": 1,
   "metadata": {},
   "outputs": [],
   "source": [
    "import pandas as pd\n",
    "import copy\n",
    "import matplotlib.pyplot as plt\n",
    "import seaborn as sns\n",
    "import numpy as np\n",
    "from scipy.stats import norm\n",
    "from sklearn.metrics import roc_curve, accuracy_score\n",
    "from scipy import stats\n",
    "from sklearn.model_selection import StratifiedKFold\n",
    "import warnings\n",
    "import pandas as pd\n",
    "pd.options.display.max_columns = None\n",
    "from sklearn.preprocessing import StandardScaler\n",
    "from sklearn.model_selection import StratifiedKFold\n",
    "import warnings\n",
    "from lightgbm import LGBMClassifier\n",
    "import lightgbm as lgb\n",
    "from sklearn.ensemble import RandomForestClassifier\n",
    "from xgboost import XGBClassifier\n",
    "from sklearn.ensemble import RandomForestClassifier\n",
    "from sklearn.ensemble import ExtraTreesClassifier\n",
    "from sklearn.ensemble import AdaBoostClassifier\n",
    "from sklearn.linear_model import LogisticRegression\n",
    "from sklearn.ensemble import GradientBoostingClassifier,ExtraTreesClassifier\n",
    "from sklearn.neighbors import KNeighborsClassifier as kNearestNeighbors\n",
    "from imblearn.combine import SMOTEENN\n",
    "from imblearn.combine import SMOTETomek\n",
    "from imblearn.ensemble import EasyEnsemble\n",
    "from imblearn.ensemble import BalanceCascade\n",
    "warnings.filterwarnings('ignore')\n",
    "%matplotlib inline"
   ]
  },
  {
   "cell_type": "markdown",
   "metadata": {},
   "source": [
    "### 1、读取数据"
   ]
  },
  {
   "cell_type": "code",
   "execution_count": 2,
   "metadata": {},
   "outputs": [],
   "source": [
    "train = pd.read_csv('EdTech_train_data.csv')\n",
    "X = train.drop(['No','rank'],axis=1)\n",
    "y = train['rank']"
   ]
  },
  {
   "cell_type": "markdown",
   "metadata": {},
   "source": [
    "### 2、转化为二分类问题"
   ]
  },
  {
   "cell_type": "code",
   "execution_count": 3,
   "metadata": {},
   "outputs": [
    {
     "name": "stdout",
     "output_type": "stream",
     "text": [
      "123    740\n",
      "0      160\n",
      "Name: rank, dtype: int64\n"
     ]
    }
   ],
   "source": [
    "y[y!=0]=123\n",
    "print(y.value_counts())"
   ]
  },
  {
   "cell_type": "markdown",
   "metadata": {},
   "source": [
    "### 3、随便使用一个分类器试试"
   ]
  },
  {
   "cell_type": "code",
   "execution_count": 4,
   "metadata": {},
   "outputs": [
    {
     "name": "stdout",
     "output_type": "stream",
     "text": [
      "conf_mat:\n",
      " [[11  5]\n",
      " [ 3 71]]\n",
      "accuracy: 0.9111111111111111\n",
      "conf_mat:\n",
      " [[ 7  9]\n",
      " [ 2 72]]\n",
      "accuracy: 0.8777777777777778\n",
      "conf_mat:\n",
      " [[12  4]\n",
      " [ 8 66]]\n",
      "accuracy: 0.8666666666666667\n",
      "conf_mat:\n",
      " [[11  5]\n",
      " [ 8 66]]\n",
      "accuracy: 0.8555555555555555\n",
      "conf_mat:\n",
      " [[ 9  7]\n",
      " [ 1 73]]\n",
      "accuracy: 0.9111111111111111\n",
      "conf_mat:\n",
      " [[10  6]\n",
      " [ 2 72]]\n",
      "accuracy: 0.9111111111111111\n",
      "conf_mat:\n",
      " [[ 8  8]\n",
      " [ 3 71]]\n",
      "accuracy: 0.8777777777777778\n",
      "conf_mat:\n",
      " [[ 8  8]\n",
      " [ 3 71]]\n",
      "accuracy: 0.8777777777777778\n",
      "conf_mat:\n",
      " [[10  6]\n",
      " [ 3 71]]\n",
      "accuracy: 0.9\n",
      "conf_mat:\n",
      " [[11  5]\n",
      " [ 1 73]]\n",
      "accuracy: 0.9333333333333333\n",
      "mean_acc 0.8922222222222222\n"
     ]
    }
   ],
   "source": [
    "from sklearn.ensemble import RandomForestClassifier\n",
    "from sklearn.metrics import confusion_matrix\n",
    "skf = StratifiedKFold(n_splits=10,shuffle=True,random_state=0)\n",
    "accs = []\n",
    "conf_mats=[]\n",
    "model = RandomForestClassifier(n_estimators=100, class_weight={0:1,123:8},random_state=2)\n",
    "for train_index, test_index in skf.split(X, y):\n",
    "    X_train, X_test = X.loc[train_index], X.loc[test_index]\n",
    "    y_train, y_test = y[train_index], y[test_index]\n",
    "    \n",
    "    model.fit(X_train,y_train)\n",
    "    y_pred = model.predict(X_test)\n",
    "    labels = list(set(y_test))\n",
    "    conf_mat = confusion_matrix(y_test, y_pred, labels = labels)\n",
    "    print('conf_mat:\\n', conf_mat)\n",
    "    conf_mats.append(conf_mat)\n",
    "    acc = accuracy_score(y_test,y_pred)\n",
    "    accs.append(acc)\n",
    "    print('accuracy:', acc)\n",
    "print('mean_acc',np.mean(np.array(accs)))"
   ]
  },
  {
   "cell_type": "markdown",
   "metadata": {},
   "source": [
    "### 4、尝试了采样和ensemble方法来处理不均衡数据，但是效果不好，数据的不均衡情况并不严重，放弃该想法"
   ]
  },
  {
   "cell_type": "code",
   "execution_count": 5,
   "metadata": {},
   "outputs": [
    {
     "name": "stdout",
     "output_type": "stream",
     "text": [
      "conf_mat:\n",
      " [[16  0]\n",
      " [11 63]]\n",
      "accuracy: 0.8777777777777778\n",
      "conf_mat:\n",
      " [[16  0]\n",
      " [11 63]]\n",
      "accuracy: 0.8777777777777778\n",
      "conf_mat:\n",
      " [[16  0]\n",
      " [17 57]]\n",
      "accuracy: 0.8111111111111111\n",
      "conf_mat:\n",
      " [[16  0]\n",
      " [14 60]]\n",
      "accuracy: 0.8444444444444444\n",
      "conf_mat:\n",
      " [[16  0]\n",
      " [16 58]]\n",
      "accuracy: 0.8222222222222222\n",
      "conf_mat:\n",
      " [[16  0]\n",
      " [16 58]]\n",
      "accuracy: 0.8222222222222222\n",
      "conf_mat:\n",
      " [[16  0]\n",
      " [16 58]]\n",
      "accuracy: 0.8222222222222222\n",
      "conf_mat:\n",
      " [[16  0]\n",
      " [11 63]]\n",
      "accuracy: 0.8777777777777778\n",
      "conf_mat:\n",
      " [[16  0]\n",
      " [25 49]]\n",
      "accuracy: 0.7222222222222222\n",
      "conf_mat:\n",
      " [[16  0]\n",
      " [12 62]]\n",
      "accuracy: 0.8666666666666667\n",
      "mean_acc 0.8344444444444443\n"
     ]
    }
   ],
   "source": [
    "from sklearn.ensemble import RandomForestClassifier\n",
    "from sklearn.metrics import confusion_matrix\n",
    "skf = StratifiedKFold(n_splits=10,shuffle=True,random_state=0)\n",
    "accs = []\n",
    "conf_mats=[]\n",
    "\n",
    "for train_index, test_index in skf.split(X, y):\n",
    "    X_train, X_test = X.loc[train_index], X.loc[test_index]\n",
    "    y_train, y_test = y[train_index], y[test_index]\n",
    "    ee = EasyEnsemble(n_subsets=5)\n",
    "    X_resampled, y_resampled = ee.fit_sample(X, y)\n",
    "    y_preds = np.zeros((len(X_test),5))\n",
    "    for i in range(5):\n",
    "        model = RandomForestClassifier(n_estimators=100,random_state=2, max_depth=20)\n",
    "        model.fit(X_resampled[i],y_resampled[i])\n",
    "        y_preds[:,i] = model.predict(X_test)\n",
    "    result1 = []\n",
    "    for y_pred in y_preds:\n",
    "        cou_123 = 0\n",
    "        cou_0 = 0\n",
    "        for i in range(5):\n",
    "            if y_pred[i]!=0:\n",
    "                cou_123+=1\n",
    "            else:\n",
    "                cou_0+=1\n",
    "        if cou_123 > cou_0:\n",
    "            result1.append(123)\n",
    "        else:\n",
    "            result1.append(0)   \n",
    "    model = RandomForestClassifier(n_estimators=100,random_state=2, max_depth=20)\n",
    "    model.fit(X_train, y_train)\n",
    "    result2 = model.predict(X_test)\n",
    "    result = []\n",
    "    for i in range(len(result1)):\n",
    "        result.append(123)\n",
    "    for i in range(len(result1)):\n",
    "        if result1[i] == 0:\n",
    "            result[i] = 0\n",
    "    \n",
    "    for i in range(len(result2)):\n",
    "        if result2[i] == 123 and result[i]!=0:\n",
    "            result[i] = 123\n",
    "#     print(result)\n",
    "#     print(y_test)    \n",
    "    \n",
    "    labels = list(set(y_test))\n",
    "    conf_mat = confusion_matrix(y_test, result, labels = labels)\n",
    "    print('conf_mat:\\n', conf_mat)\n",
    "    conf_mats.append(conf_mat)\n",
    "    acc = accuracy_score(y_test,result)\n",
    "    accs.append(acc)\n",
    "    print('accuracy:', acc)\n",
    "print('mean_acc',np.mean(np.array(accs)))"
   ]
  },
  {
   "cell_type": "markdown",
   "metadata": {},
   "source": [
    "### 5、特征工程"
   ]
  },
  {
   "cell_type": "markdown",
   "metadata": {},
   "source": [
    "#### 5.1分析总体特征相关性"
   ]
  },
  {
   "cell_type": "code",
   "execution_count": 6,
   "metadata": {},
   "outputs": [
    {
     "data": {
      "image/png": "[encoded data removed]",
      "text/plain": [
       "<Figure size 720x720 with 2 Axes>"
      ]
     },
     "metadata": {},
     "output_type": "display_data"
    }
   ],
   "source": [
    "f,ax = plt.subplots(figsize=(10, 10))\n",
    "df_cor = X\n",
    "df_cor['rank'] = y.values\n",
    "sns.heatmap(df_cor.corr(), annot=True, linewidths=.5, fmt= '.1f',ax=ax)\n",
    "plt.show()"
   ]
  },
  {
   "cell_type": "markdown",
   "metadata": {},
   "source": [
    "#### 5.2处理类别型特征"
   ]
  },
  {
   "cell_type": "markdown",
   "metadata": {},
   "source": [
    "策略1：不做任何特征工程"
   ]
  },
  {
   "cell_type": "code",
   "execution_count": 7,
   "metadata": {},
   "outputs": [],
   "source": [
    "train = pd.read_csv('EdTech_train_data.csv')\n",
    "X = train.drop(['No','rank'],axis=1).values\n",
    "y = train['rank'].values\n",
    "y[y!=0]=123"
   ]
  },
  {
   "cell_type": "markdown",
   "metadata": {},
   "source": [
    "1)用RF"
   ]
  },
  {
   "cell_type": "code",
   "execution_count": 8,
   "metadata": {},
   "outputs": [
    {
     "name": "stdout",
     "output_type": "stream",
     "text": [
      "accuracy: 0.9111111111111111\n",
      "accuracy: 0.8777777777777778\n",
      "accuracy: 0.8666666666666667\n",
      "accuracy: 0.8555555555555555\n",
      "accuracy: 0.9111111111111111\n",
      "accuracy: 0.9111111111111111\n",
      "accuracy: 0.8777777777777778\n",
      "accuracy: 0.8777777777777778\n",
      "accuracy: 0.9\n",
      "accuracy: 0.9333333333333333\n",
      "mean_acc 0.8922222222222222\n"
     ]
    }
   ],
   "source": [
    "model = RandomForestClassifier(n_estimators=100, class_weight={0:1,123:8},random_state=2)\n",
    "skf = StratifiedKFold(n_splits=10,shuffle=True,random_state=0)\n",
    "accs = []\n",
    "for train_index, test_index in skf.split(X, y):\n",
    "    X_train, X_test = X[train_index], X[test_index]\n",
    "    y_train, y_test = y[train_index], y[test_index]\n",
    "    model.fit(X_train,y_train)\n",
    "    y_pred = model.predict(X_test)\n",
    "    acc = accuracy_score(y_test,y_pred)\n",
    "    accs.append(acc)\n",
    "    print('accuracy:', acc)\n",
    "print('mean_acc',np.mean(np.array(accs)))"
   ]
  },
  {
   "cell_type": "markdown",
   "metadata": {},
   "source": [
    "2）用XGB"
   ]
  },
  {
   "cell_type": "code",
   "execution_count": 9,
   "metadata": {},
   "outputs": [
    {
     "name": "stdout",
     "output_type": "stream",
     "text": [
      "accuracy: 0.9111111111111111\n",
      "accuracy: 0.8666666666666667\n",
      "accuracy: 0.8666666666666667\n",
      "accuracy: 0.8666666666666667\n",
      "accuracy: 0.9333333333333333\n",
      "accuracy: 0.8888888888888888\n",
      "accuracy: 0.8555555555555555\n",
      "accuracy: 0.8777777777777778\n",
      "accuracy: 0.8888888888888888\n",
      "accuracy: 0.8777777777777778\n",
      "mean_acc 0.8833333333333334\n"
     ]
    }
   ],
   "source": [
    "model = XGBClassifier(n_estimators=50, n_jobs=-1,random_state=0)\n",
    "skf = StratifiedKFold(n_splits=10,shuffle=True,random_state=0)\n",
    "accs = []\n",
    "for train_index, test_index in skf.split(X, y):\n",
    "    X_train, X_test = X[train_index], X[test_index]\n",
    "    y_train, y_test = y[train_index], y[test_index]\n",
    "    model.fit(X_train,y_train)\n",
    "    y_pred = model.predict(X_test)\n",
    "    acc = accuracy_score(y_test,y_pred)\n",
    "    accs.append(acc)\n",
    "    print('accuracy:', acc)\n",
    "print('mean_acc',np.mean(np.array(accs)))"
   ]
  },
  {
   "cell_type": "markdown",
   "metadata": {},
   "source": [
    "策略2：删除Degree Application"
   ]
  },
  {
   "cell_type": "code",
   "execution_count": 10,
   "metadata": {},
   "outputs": [
    {
     "name": "stdout",
     "output_type": "stream",
     "text": [
      "accuracy: 0.9111111111111111\n",
      "accuracy: 0.8888888888888888\n",
      "accuracy: 0.8333333333333334\n",
      "accuracy: 0.8333333333333334\n",
      "accuracy: 0.9111111111111111\n",
      "accuracy: 0.8777777777777778\n",
      "accuracy: 0.8888888888888888\n",
      "accuracy: 0.8888888888888888\n",
      "accuracy: 0.8555555555555555\n",
      "accuracy: 0.9222222222222223\n",
      "mean_acc 0.881111111111111\n"
     ]
    }
   ],
   "source": [
    "train = pd.read_csv('EdTech_train_data.csv')\n",
    "X = train.drop(['No','rank','Degree Application'],axis=1).values\n",
    "y = train['rank'].values\n",
    "y[y!=0]=123\n",
    "model = RandomForestClassifier(n_estimators=100, class_weight={0:1,123:8},random_state=2)\n",
    "skf = StratifiedKFold(n_splits=10,shuffle=True,random_state=0)\n",
    "accs = []\n",
    "for train_index, test_index in skf.split(X, y):\n",
    "    X_train, X_test = X[train_index], X[test_index]\n",
    "    y_train, y_test = y[train_index], y[test_index]\n",
    "    model.fit(X_train,y_train)\n",
    "    y_pred = model.predict(X_test)\n",
    "    acc = accuracy_score(y_test,y_pred)\n",
    "    accs.append(acc)\n",
    "    print('accuracy:', acc)\n",
    "print('mean_acc',np.mean(np.array(accs)))\n",
    "#看来不能删除"
   ]
  },
  {
   "cell_type": "markdown",
   "metadata": {},
   "source": [
    "策略3：对Degree Application做onehot"
   ]
  },
  {
   "cell_type": "code",
   "execution_count": 11,
   "metadata": {},
   "outputs": [
    {
     "name": "stdout",
     "output_type": "stream",
     "text": [
      "accuracy: 0.9222222222222223\n",
      "accuracy: 0.8777777777777778\n",
      "accuracy: 0.8222222222222222\n",
      "accuracy: 0.8555555555555555\n",
      "accuracy: 0.9222222222222223\n",
      "accuracy: 0.8666666666666667\n",
      "accuracy: 0.9\n",
      "accuracy: 0.8444444444444444\n",
      "accuracy: 0.8555555555555555\n",
      "accuracy: 0.9222222222222223\n",
      "mean_acc 0.8788888888888888\n"
     ]
    }
   ],
   "source": [
    "train = pd.read_csv('EdTech_train_data.csv')\n",
    "Degree = pd.DataFrame(train['Degree Application'],dtype='object')\n",
    "Degree_hot = pd.get_dummies(Degree)\n",
    "train_X = train.drop(['No','rank','Degree Application'],axis=1)\n",
    "train_y = train['rank']\n",
    "#将dataframe按列合并\n",
    "X = train_X.join(Degree_hot,how='outer').values\n",
    "y = train_y.values\n",
    "y[y!=0]=123\n",
    "\n",
    "model = RandomForestClassifier(n_estimators=100, class_weight={0:1,123:8},random_state=2)\n",
    "skf = StratifiedKFold(n_splits=10,shuffle=True,random_state=0)\n",
    "accs = []\n",
    "for train_index, test_index in skf.split(X, y):\n",
    "    X_train, X_test = X[train_index], X[test_index]\n",
    "    y_train, y_test = y[train_index], y[test_index]\n",
    "    model.fit(X_train,y_train)\n",
    "    y_pred = model.predict(X_test)\n",
    "    acc = accuracy_score(y_test,y_pred)\n",
    "    accs.append(acc)\n",
    "    print('accuracy:', acc)\n",
    "print('mean_acc',np.mean(np.array(accs)))"
   ]
  },
  {
   "cell_type": "markdown",
   "metadata": {},
   "source": [
    "策略4：对Education做onehot"
   ]
  },
  {
   "cell_type": "code",
   "execution_count": 12,
   "metadata": {},
   "outputs": [
    {
     "name": "stdout",
     "output_type": "stream",
     "text": [
      "accuracy: 0.8888888888888888\n",
      "accuracy: 0.8777777777777778\n",
      "accuracy: 0.8333333333333334\n",
      "accuracy: 0.8666666666666667\n",
      "accuracy: 0.9\n",
      "accuracy: 0.8777777777777778\n",
      "accuracy: 0.8777777777777778\n",
      "accuracy: 0.8555555555555555\n",
      "accuracy: 0.9\n",
      "accuracy: 0.9222222222222223\n",
      "mean_acc 0.8800000000000001\n"
     ]
    }
   ],
   "source": [
    "train = pd.read_csv('EdTech_train_data.csv')\n",
    "Edu = pd.DataFrame(train['Education'],dtype='object')\n",
    "Edu_hot = pd.get_dummies(Edu)\n",
    "train_X = train.drop(['No','rank','Education'],axis=1)\n",
    "train_y = train['rank']\n",
    "#将dataframe按列合并\n",
    "X = train_X.join(Edu_hot,how='outer').values\n",
    "y = train_y.values\n",
    "y[y!=0]=123\n",
    "model = RandomForestClassifier(n_estimators=100, class_weight={0:1,123:8},random_state=2)\n",
    "skf = StratifiedKFold(n_splits=10,shuffle=True,random_state=0)\n",
    "accs = []\n",
    "for train_index, test_index in skf.split(X, y):\n",
    "    X_train, X_test = X[train_index], X[test_index]\n",
    "    y_train, y_test = y[train_index], y[test_index]\n",
    "    model.fit(X_train,y_train)\n",
    "    y_pred = model.predict(X_test)\n",
    "    acc = accuracy_score(y_test,y_pred)\n",
    "    accs.append(acc)\n",
    "    print('accuracy:', acc)\n",
    "print('mean_acc',np.mean(np.array(accs)))"
   ]
  },
  {
   "cell_type": "markdown",
   "metadata": {},
   "source": [
    "策略5：对IETLS做onehot"
   ]
  },
  {
   "cell_type": "code",
   "execution_count": 13,
   "metadata": {},
   "outputs": [
    {
     "name": "stdout",
     "output_type": "stream",
     "text": [
      "accuracy: 0.9111111111111111\n",
      "accuracy: 0.8777777777777778\n",
      "accuracy: 0.8333333333333334\n",
      "accuracy: 0.8555555555555555\n",
      "accuracy: 0.9\n",
      "accuracy: 0.8777777777777778\n",
      "accuracy: 0.8888888888888888\n",
      "accuracy: 0.8888888888888888\n",
      "accuracy: 0.8666666666666667\n",
      "accuracy: 0.9333333333333333\n",
      "mean_acc 0.8833333333333334\n"
     ]
    }
   ],
   "source": [
    "train = pd.read_csv('EdTech_train_data.csv')\n",
    "IET = pd.DataFrame(train['IETLS'],dtype='object')\n",
    "IET_hot = pd.get_dummies(IET)\n",
    "train_X = train.drop(['No','rank','IETLS'],axis=1)\n",
    "train_y = train['rank']\n",
    "#将dataframe按列合并\n",
    "X = train_X.join(IET_hot,how='outer').values\n",
    "y = train_y.values\n",
    "y[y!=0]=123\n",
    "model = RandomForestClassifier(n_estimators=100, class_weight={0:1,123:8},random_state=2)\n",
    "skf = StratifiedKFold(n_splits=10,shuffle=True,random_state=0)\n",
    "accs = []\n",
    "for train_index, test_index in skf.split(X, y):\n",
    "    X_train, X_test = X[train_index], X[test_index]\n",
    "    y_train, y_test = y[train_index], y[test_index]\n",
    "    model.fit(X_train,y_train)\n",
    "    y_pred = model.predict(X_test)\n",
    "    acc = accuracy_score(y_test,y_pred)\n",
    "    accs.append(acc)\n",
    "    print('accuracy:', acc)\n",
    "print('mean_acc',np.mean(np.array(accs)))"
   ]
  },
  {
   "cell_type": "markdown",
   "metadata": {},
   "source": [
    "策略6：对IETLS新增一列判断是否大于0"
   ]
  },
  {
   "cell_type": "code",
   "execution_count": 14,
   "metadata": {},
   "outputs": [],
   "source": [
    "train = pd.read_csv('EdTech_train_data.csv')\n",
    "IETLS = pd.DataFrame(train['IETLS'])\n",
    "IETLS[IETLS<1]=0\n",
    "IETLS[IETLS>=1]=1"
   ]
  },
  {
   "cell_type": "code",
   "execution_count": 15,
   "metadata": {},
   "outputs": [
    {
     "name": "stdout",
     "output_type": "stream",
     "text": [
      "accuracy: 0.9111111111111111\n",
      "accuracy: 0.8444444444444444\n",
      "accuracy: 0.8222222222222222\n",
      "accuracy: 0.8555555555555555\n",
      "accuracy: 0.8777777777777778\n",
      "accuracy: 0.8666666666666667\n",
      "accuracy: 0.8777777777777778\n",
      "accuracy: 0.8888888888888888\n",
      "accuracy: 0.8666666666666667\n",
      "accuracy: 0.9\n",
      "mean_acc 0.8711111111111112\n"
     ]
    }
   ],
   "source": [
    "train_X = copy.deepcopy(train)\n",
    "train_X['IETLS>=1'] = IETLS.values\n",
    "train_X = train_X.drop(['No','rank'],axis=1)\n",
    "train_y = train['rank']\n",
    "#将dataframe按列合并\n",
    "X = train_X.values\n",
    "y = train_y.values\n",
    "y[y!=0]=123\n",
    "model = RandomForestClassifier(n_estimators=100, class_weight={0:1,123:8},random_state=2)\n",
    "skf = StratifiedKFold(n_splits=10,shuffle=True,random_state=0)\n",
    "accs = []\n",
    "for train_index, test_index in skf.split(X, y):\n",
    "    X_train, X_test = X[train_index], X[test_index]\n",
    "    y_train, y_test = y[train_index], y[test_index]\n",
    "    model.fit(X_train,y_train)\n",
    "    y_pred = model.predict(X_test)\n",
    "    acc = accuracy_score(y_test,y_pred)\n",
    "    accs.append(acc)\n",
    "    print('accuracy:', acc)\n",
    "print('mean_acc',np.mean(np.array(accs)))"
   ]
  },
  {
   "cell_type": "markdown",
   "metadata": {},
   "source": [
    "策略7：对雅思为0的填充均值或者中位数"
   ]
  },
  {
   "cell_type": "code",
   "execution_count": 16,
   "metadata": {},
   "outputs": [],
   "source": [
    "train = pd.read_csv('EdTech_train_data.csv')\n",
    "IET = train['IETLS'].values\n",
    "IET_mean = np.mean(IET)\n",
    "IET_mead = np.median(IET)"
   ]
  },
  {
   "cell_type": "code",
   "execution_count": 17,
   "metadata": {},
   "outputs": [],
   "source": [
    "for i in range(len(IET)):\n",
    "    if IET[i]==0:\n",
    "        IET[i]=IET_mead"
   ]
  },
  {
   "cell_type": "code",
   "execution_count": 18,
   "metadata": {},
   "outputs": [
    {
     "name": "stdout",
     "output_type": "stream",
     "text": [
      "accuracy: 0.9111111111111111\n",
      "accuracy: 0.8666666666666667\n",
      "accuracy: 0.8666666666666667\n",
      "accuracy: 0.8555555555555555\n",
      "accuracy: 0.9111111111111111\n",
      "accuracy: 0.9111111111111111\n",
      "accuracy: 0.9\n",
      "accuracy: 0.8555555555555555\n",
      "accuracy: 0.8777777777777778\n",
      "accuracy: 0.9222222222222223\n",
      "mean_acc 0.8877777777777778\n"
     ]
    }
   ],
   "source": [
    "train_X = train.drop(['No','rank'],axis=1)\n",
    "# train_X['IET'] = IET\n",
    "train_y = train['rank']\n",
    "#将dataframe按列合并\n",
    "X = train_X.values\n",
    "y = train_y.values\n",
    "y[y!=0]=123\n",
    "model = RandomForestClassifier(n_estimators=100, class_weight={0:1,123:8},random_state=2)\n",
    "skf = StratifiedKFold(n_splits=10,shuffle=True,random_state=0)\n",
    "accs = []\n",
    "for train_index, test_index in skf.split(X, y):\n",
    "    X_train, X_test = X[train_index], X[test_index]\n",
    "    y_train, y_test = y[train_index], y[test_index]\n",
    "    model.fit(X_train,y_train)\n",
    "    y_pred = model.predict(X_test)\n",
    "    acc = accuracy_score(y_test,y_pred)\n",
    "    accs.append(acc)\n",
    "    print('accuracy:', acc)\n",
    "print('mean_acc',np.mean(np.array(accs)))\n",
    "#没什么用"
   ]
  },
  {
   "cell_type": "markdown",
   "metadata": {},
   "source": [
    "策略8：对Distinguished Internship做one_hot"
   ]
  },
  {
   "cell_type": "code",
   "execution_count": 19,
   "metadata": {},
   "outputs": [
    {
     "name": "stdout",
     "output_type": "stream",
     "text": [
      "accuracy: 0.8888888888888888\n",
      "accuracy: 0.8777777777777778\n",
      "accuracy: 0.8444444444444444\n",
      "accuracy: 0.8333333333333334\n",
      "accuracy: 0.9\n",
      "accuracy: 0.8888888888888888\n",
      "accuracy: 0.8888888888888888\n",
      "accuracy: 0.8777777777777778\n",
      "accuracy: 0.8444444444444444\n",
      "accuracy: 0.9111111111111111\n",
      "mean_acc 0.8755555555555554\n"
     ]
    }
   ],
   "source": [
    "train = pd.read_csv('EdTech_train_data.csv')\n",
    "Dis_Intern = pd.DataFrame(train['Distinguished Internship'],dtype='object')\n",
    "Dis_Intern_hot = pd.get_dummies(Dis_Intern)\n",
    "train_X = train.drop(['No','rank','Distinguished Internship'],axis=1)\n",
    "train_y = train['rank']\n",
    "#将dataframe按列合并\n",
    "X = train_X.join(Dis_Intern_hot,how='outer').values\n",
    "y = train_y.values\n",
    "y[y!=0]=123\n",
    "model = RandomForestClassifier(n_estimators=100, class_weight={0:1,123:8},random_state=2)\n",
    "skf = StratifiedKFold(n_splits=10,shuffle=True,random_state=0)\n",
    "accs = []\n",
    "for train_index, test_index in skf.split(X, y):\n",
    "    X_train, X_test = X[train_index], X[test_index]\n",
    "    y_train, y_test = y[train_index], y[test_index]\n",
    "    model.fit(X_train,y_train)\n",
    "    y_pred = model.predict(X_test)\n",
    "    acc = accuracy_score(y_test,y_pred)\n",
    "    accs.append(acc)\n",
    "    print('accuracy:', acc)\n",
    "print('mean_acc',np.mean(np.array(accs)))"
   ]
  },
  {
   "cell_type": "markdown",
   "metadata": {},
   "source": [
    "策略9：对General Internship做one_hot"
   ]
  },
  {
   "cell_type": "code",
   "execution_count": 20,
   "metadata": {},
   "outputs": [
    {
     "name": "stdout",
     "output_type": "stream",
     "text": [
      "accuracy: 0.8888888888888888\n",
      "accuracy: 0.8888888888888888\n",
      "accuracy: 0.8333333333333334\n",
      "accuracy: 0.8666666666666667\n",
      "accuracy: 0.9222222222222223\n",
      "accuracy: 0.8888888888888888\n",
      "accuracy: 0.8777777777777778\n",
      "accuracy: 0.8555555555555555\n",
      "accuracy: 0.8666666666666667\n",
      "accuracy: 0.9\n",
      "mean_acc 0.8788888888888889\n"
     ]
    }
   ],
   "source": [
    "train = pd.read_csv('EdTech_train_data.csv')\n",
    "Gen_Intern = pd.DataFrame(train['General Internship'],dtype='object')\n",
    "Gen_Intern_hot = pd.get_dummies(Gen_Intern)\n",
    "train_X = train.drop(['No','rank','General Internship'],axis=1)\n",
    "train_y = train['rank']\n",
    "#将dataframe按列合并\n",
    "X = train_X.join(Gen_Intern_hot,how='outer').values\n",
    "y = train_y.values\n",
    "y[y!=0]=123\n",
    "model = RandomForestClassifier(n_estimators=100, class_weight={0:1,123:8},random_state=2)\n",
    "skf = StratifiedKFold(n_splits=10,shuffle=True,random_state=0)\n",
    "accs = []\n",
    "for train_index, test_index in skf.split(X, y):\n",
    "    X_train, X_test = X[train_index], X[test_index]\n",
    "    y_train, y_test = y[train_index], y[test_index]\n",
    "    model.fit(X_train,y_train)\n",
    "    y_pred = model.predict(X_test)\n",
    "    acc = accuracy_score(y_test,y_pred)\n",
    "    accs.append(acc)\n",
    "    print('accuracy:', acc)\n",
    "print('mean_acc',np.mean(np.array(accs)))"
   ]
  },
  {
   "cell_type": "markdown",
   "metadata": {},
   "source": [
    "策略10：对General Internship新增一列判断是否大于7"
   ]
  },
  {
   "cell_type": "code",
   "execution_count": 21,
   "metadata": {},
   "outputs": [
    {
     "name": "stdout",
     "output_type": "stream",
     "text": [
      "accuracy: 0.8888888888888888\n",
      "accuracy: 0.8666666666666667\n",
      "accuracy: 0.8333333333333334\n",
      "accuracy: 0.8777777777777778\n",
      "accuracy: 0.9111111111111111\n",
      "accuracy: 0.8777777777777778\n",
      "accuracy: 0.8777777777777778\n",
      "accuracy: 0.8777777777777778\n",
      "accuracy: 0.8777777777777778\n",
      "accuracy: 0.9111111111111111\n",
      "mean_acc 0.8800000000000001\n"
     ]
    }
   ],
   "source": [
    "train = pd.read_csv('EdTech_train_data.csv')\n",
    "Gen_Intern = pd.DataFrame(train['General Internship'])\n",
    "Gen_Intern[Gen_Intern<7]=0\n",
    "Gen_Intern[Gen_Intern>=7]=1\n",
    "\n",
    "train_X = copy.deepcopy(train)\n",
    "train_X['Gen_Intern>=7'] = Gen_Intern.values\n",
    "train_X = train_X.drop(['No','rank'],axis=1)\n",
    "train_y = train['rank']\n",
    "#将dataframe按列合并\n",
    "X = train_X.values\n",
    "y = train_y.values\n",
    "y[y!=0]=123\n",
    "model = RandomForestClassifier(n_estimators=100, class_weight={0:1,123:8},random_state=2)\n",
    "skf = StratifiedKFold(n_splits=10,shuffle=True,random_state=0)\n",
    "accs = []\n",
    "for train_index, test_index in skf.split(X, y):\n",
    "    X_train, X_test = X[train_index], X[test_index]\n",
    "    y_train, y_test = y[train_index], y[test_index]\n",
    "    model.fit(X_train,y_train)\n",
    "    y_pred = model.predict(X_test)\n",
    "    acc = accuracy_score(y_test,y_pred)\n",
    "    accs.append(acc)\n",
    "    print('accuracy:', acc)\n",
    "print('mean_acc',np.mean(np.array(accs)))"
   ]
  },
  {
   "cell_type": "markdown",
   "metadata": {},
   "source": [
    "策略11：对Research Experience做one_hot"
   ]
  },
  {
   "cell_type": "code",
   "execution_count": 22,
   "metadata": {},
   "outputs": [
    {
     "name": "stdout",
     "output_type": "stream",
     "text": [
      "accuracy: 0.9\n",
      "accuracy: 0.8666666666666667\n",
      "accuracy: 0.8333333333333334\n",
      "accuracy: 0.8666666666666667\n",
      "accuracy: 0.9222222222222223\n",
      "accuracy: 0.8888888888888888\n",
      "accuracy: 0.8888888888888888\n",
      "accuracy: 0.8666666666666667\n",
      "accuracy: 0.8888888888888888\n",
      "accuracy: 0.9222222222222223\n",
      "mean_acc 0.8844444444444445\n"
     ]
    }
   ],
   "source": [
    "train = pd.read_csv('EdTech_train_data.csv')\n",
    "Re_exp = pd.DataFrame(train['Research Experience'],dtype='object')\n",
    "Re_exp_hot = pd.get_dummies(Re_exp)\n",
    "train_X = train.drop(['No','rank','Research Experience'],axis=1)\n",
    "train_y = train['rank']\n",
    "#将dataframe按列合并\n",
    "X = train_X.join(Re_exp_hot,how='outer').values\n",
    "y = train_y.values\n",
    "y[y!=0]=123\n",
    "model = RandomForestClassifier(n_estimators=100, class_weight={0:1,123:8},random_state=2)\n",
    "skf = StratifiedKFold(n_splits=10,shuffle=True,random_state=0)\n",
    "accs = []\n",
    "for train_index, test_index in skf.split(X, y):\n",
    "    X_train, X_test = X[train_index], X[test_index]\n",
    "    y_train, y_test = y[train_index], y[test_index]\n",
    "    model.fit(X_train,y_train)\n",
    "    y_pred = model.predict(X_test)\n",
    "    acc = accuracy_score(y_test,y_pred)\n",
    "    accs.append(acc)\n",
    "    print('accuracy:', acc)\n",
    "print('mean_acc',np.mean(np.array(accs)))"
   ]
  },
  {
   "cell_type": "markdown",
   "metadata": {},
   "source": [
    "策略12：对Research Experience新增一列判断是否大于7"
   ]
  },
  {
   "cell_type": "code",
   "execution_count": 23,
   "metadata": {},
   "outputs": [
    {
     "name": "stdout",
     "output_type": "stream",
     "text": [
      "accuracy: 0.9222222222222223\n",
      "accuracy: 0.8333333333333334\n",
      "accuracy: 0.8444444444444444\n",
      "accuracy: 0.8444444444444444\n",
      "accuracy: 0.9111111111111111\n",
      "accuracy: 0.8777777777777778\n",
      "accuracy: 0.8777777777777778\n",
      "accuracy: 0.8555555555555555\n",
      "accuracy: 0.8777777777777778\n",
      "accuracy: 0.9111111111111111\n",
      "mean_acc 0.8755555555555556\n"
     ]
    }
   ],
   "source": [
    "train = pd.read_csv('EdTech_train_data.csv')\n",
    "Re_exp = pd.DataFrame(train['Research Experience'])\n",
    "Re_exp[Re_exp<7]=0\n",
    "Re_exp[Re_exp>=7]=1\n",
    "train_X = copy.deepcopy(train)\n",
    "train_X['Re_exp>=7'] = Re_exp.values\n",
    "train_X = train_X.drop(['No','rank'],axis=1)\n",
    "train_y = train['rank']\n",
    "#将dataframe按列合并\n",
    "X = train_X.values\n",
    "y = train_y.values\n",
    "y[y!=0]=123\n",
    "model = RandomForestClassifier(n_estimators=100, class_weight={0:1,123:8},random_state=2)\n",
    "skf = StratifiedKFold(n_splits=10,shuffle=True,random_state=0)\n",
    "accs = []\n",
    "for train_index, test_index in skf.split(X, y):\n",
    "    X_train, X_test = X[train_index], X[test_index]\n",
    "    y_train, y_test = y[train_index], y[test_index]\n",
    "    model.fit(X_train,y_train)\n",
    "    y_pred = model.predict(X_test)\n",
    "    acc = accuracy_score(y_test,y_pred)\n",
    "    accs.append(acc)\n",
    "    print('accuracy:', acc)\n",
    "print('mean_acc',np.mean(np.array(accs)))"
   ]
  },
  {
   "cell_type": "markdown",
   "metadata": {},
   "source": [
    "策略13：对Other Experience做one_hot"
   ]
  },
  {
   "cell_type": "code",
   "execution_count": 24,
   "metadata": {},
   "outputs": [
    {
     "name": "stdout",
     "output_type": "stream",
     "text": [
      "accuracy: 0.8888888888888888\n",
      "accuracy: 0.8666666666666667\n",
      "accuracy: 0.8444444444444444\n",
      "accuracy: 0.8555555555555555\n",
      "accuracy: 0.9111111111111111\n",
      "accuracy: 0.8777777777777778\n",
      "accuracy: 0.8777777777777778\n",
      "accuracy: 0.8333333333333334\n",
      "accuracy: 0.8666666666666667\n",
      "accuracy: 0.9222222222222223\n",
      "mean_acc 0.8744444444444446\n"
     ]
    }
   ],
   "source": [
    "train = pd.read_csv('EdTech_train_data.csv')\n",
    "Oth_exp = pd.DataFrame(train['Other Experience'],dtype='object')\n",
    "Oth_exp_hot = pd.get_dummies(Oth_exp)\n",
    "train_X = train.drop(['No','rank','Other Experience'],axis=1)\n",
    "train_y = train['rank']\n",
    "#将dataframe按列合并\n",
    "X = train_X.join(Oth_exp_hot,how='outer').values\n",
    "y = train_y.values\n",
    "y[y!=0]=123\n",
    "\n",
    "model = RandomForestClassifier(n_estimators=100, class_weight={0:1,123:8},random_state=2)\n",
    "skf = StratifiedKFold(n_splits=10,shuffle=True,random_state=0)\n",
    "accs = []\n",
    "for train_index, test_index in skf.split(X, y):\n",
    "    X_train, X_test = X[train_index], X[test_index]\n",
    "    y_train, y_test = y[train_index], y[test_index]\n",
    "    model.fit(X_train,y_train)\n",
    "    y_pred = model.predict(X_test)\n",
    "    acc = accuracy_score(y_test,y_pred)\n",
    "    accs.append(acc)\n",
    "    print('accuracy:', acc)\n",
    "print('mean_acc',np.mean(np.array(accs)))\n",
    "#没有提高，而且个数有序的，故不作onehot"
   ]
  },
  {
   "cell_type": "markdown",
   "metadata": {},
   "source": [
    "策略14：对Other Experience新增一列判断是否大于0"
   ]
  },
  {
   "cell_type": "code",
   "execution_count": 25,
   "metadata": {},
   "outputs": [
    {
     "name": "stdout",
     "output_type": "stream",
     "text": [
      "accuracy: 0.9111111111111111\n",
      "accuracy: 0.9\n",
      "accuracy: 0.8111111111111111\n",
      "accuracy: 0.8555555555555555\n",
      "accuracy: 0.9\n",
      "accuracy: 0.8666666666666667\n",
      "accuracy: 0.8777777777777778\n",
      "accuracy: 0.8666666666666667\n",
      "accuracy: 0.8888888888888888\n",
      "accuracy: 0.9111111111111111\n",
      "mean_acc 0.8788888888888889\n"
     ]
    }
   ],
   "source": [
    "train = pd.read_csv('EdTech_train_data.csv')\n",
    "Oth_exp = pd.DataFrame(train['Other Experience'])\n",
    "Oth_exp[Oth_exp<1]=0\n",
    "Oth_exp[Oth_exp>=1]=1\n",
    "\n",
    "\n",
    "train_X = copy.deepcopy(train)\n",
    "train_X['Oth_exp>=1'] = Oth_exp.values\n",
    "train_X = train_X.drop(['No','rank'],axis=1)\n",
    "train_y = train['rank']\n",
    "#将dataframe按列合并\n",
    "X = train_X.values\n",
    "y = train_y.values\n",
    "y[y!=0]=123\n",
    "model = RandomForestClassifier(n_estimators=100, class_weight={0:1,123:8},random_state=2)\n",
    "skf = StratifiedKFold(n_splits=10,shuffle=True,random_state=0)\n",
    "accs = []\n",
    "for train_index, test_index in skf.split(X, y):\n",
    "    X_train, X_test = X[train_index], X[test_index]\n",
    "    y_train, y_test = y[train_index], y[test_index]\n",
    "    model.fit(X_train,y_train)\n",
    "    y_pred = model.predict(X_test)\n",
    "    acc = accuracy_score(y_test,y_pred)\n",
    "    accs.append(acc)\n",
    "    print('accuracy:', acc)\n",
    "print('mean_acc',np.mean(np.array(accs)))"
   ]
  },
  {
   "cell_type": "markdown",
   "metadata": {},
   "source": [
    "策略15：对Year做one_hot"
   ]
  },
  {
   "cell_type": "code",
   "execution_count": 26,
   "metadata": {},
   "outputs": [
    {
     "name": "stdout",
     "output_type": "stream",
     "text": [
      "accuracy: 0.9\n",
      "accuracy: 0.9\n",
      "accuracy: 0.8\n",
      "accuracy: 0.8444444444444444\n",
      "accuracy: 0.9\n",
      "accuracy: 0.8666666666666667\n",
      "accuracy: 0.8777777777777778\n",
      "accuracy: 0.8777777777777778\n",
      "accuracy: 0.8555555555555555\n",
      "accuracy: 0.9222222222222223\n",
      "mean_acc 0.8744444444444444\n"
     ]
    }
   ],
   "source": [
    "train = pd.read_csv('EdTech_train_data.csv')\n",
    "Year = pd.DataFrame(train['Year'],dtype='object')\n",
    "Year_hot = pd.get_dummies(Year)\n",
    "train_X = train.drop(['No','rank','Year'],axis=1)\n",
    "train_y = train['rank']\n",
    "#将dataframe按列合并\n",
    "X = train_X.join(Year_hot,how='outer').values\n",
    "y = train_y.values\n",
    "y[y!=0]=123\n",
    "model = RandomForestClassifier(n_estimators=100, class_weight={0:1,123:8},random_state=2)\n",
    "skf = StratifiedKFold(n_splits=10,shuffle=True,random_state=0)\n",
    "accs = []\n",
    "for train_index, test_index in skf.split(X, y):\n",
    "    X_train, X_test = X[train_index], X[test_index]\n",
    "    y_train, y_test = y[train_index], y[test_index]\n",
    "    model.fit(X_train,y_train)\n",
    "    y_pred = model.predict(X_test)\n",
    "    acc = accuracy_score(y_test,y_pred)\n",
    "    accs.append(acc)\n",
    "    print('accuracy:', acc)\n",
    "print('mean_acc',np.mean(np.array(accs)))"
   ]
  },
  {
   "cell_type": "markdown",
   "metadata": {},
   "source": [
    "最终的结果：  \n",
    "不做处理"
   ]
  },
  {
   "cell_type": "markdown",
   "metadata": {},
   "source": [
    "#### 5.2处理数值型特征"
   ]
  },
  {
   "cell_type": "markdown",
   "metadata": {},
   "source": [
    "策略1：对IBT新增一列判断是否大于0"
   ]
  },
  {
   "cell_type": "code",
   "execution_count": 27,
   "metadata": {},
   "outputs": [
    {
     "name": "stdout",
     "output_type": "stream",
     "text": [
      "accuracy: 0.9222222222222223\n",
      "accuracy: 0.8888888888888888\n",
      "accuracy: 0.8222222222222222\n",
      "accuracy: 0.8777777777777778\n",
      "accuracy: 0.9\n",
      "accuracy: 0.8888888888888888\n",
      "accuracy: 0.8777777777777778\n",
      "accuracy: 0.8666666666666667\n",
      "accuracy: 0.8555555555555555\n",
      "accuracy: 0.9222222222222223\n",
      "mean_acc 0.8822222222222221\n"
     ]
    }
   ],
   "source": [
    "train = pd.read_csv('EdTech_train_data.csv')\n",
    "IBT = pd.DataFrame(train['IBT'])\n",
    "IBT[IBT<1]=0\n",
    "IBT[IBT>=1]=1\n",
    "train_X = copy.deepcopy(train)\n",
    "train_X['IBT>=1'] = IBT.values\n",
    "train_X = train_X.drop(['No','rank'],axis=1)\n",
    "train_y = train['rank']\n",
    "#将dataframe按列合并\n",
    "X = train_X.values\n",
    "y = train_y.values\n",
    "y[y!=0]=123\n",
    "model = RandomForestClassifier(n_estimators=100, class_weight={0:1,123:8},random_state=2)\n",
    "skf = StratifiedKFold(n_splits=10,shuffle=True,random_state=0)\n",
    "accs = []\n",
    "for train_index, test_index in skf.split(X, y):\n",
    "    X_train, X_test = X[train_index], X[test_index]\n",
    "    y_train, y_test = y[train_index], y[test_index]\n",
    "    model.fit(X_train,y_train)\n",
    "    y_pred = model.predict(X_test)\n",
    "    acc = accuracy_score(y_test,y_pred)\n",
    "    accs.append(acc)\n",
    "    print('accuracy:', acc)\n",
    "print('mean_acc',np.mean(np.array(accs)))"
   ]
  },
  {
   "cell_type": "markdown",
   "metadata": {},
   "source": [
    "策略2：对GMAT新增一列判断是否大于0"
   ]
  },
  {
   "cell_type": "code",
   "execution_count": 28,
   "metadata": {},
   "outputs": [
    {
     "name": "stdout",
     "output_type": "stream",
     "text": [
      "accuracy: 0.9111111111111111\n",
      "accuracy: 0.8777777777777778\n",
      "accuracy: 0.8333333333333334\n",
      "accuracy: 0.8666666666666667\n",
      "accuracy: 0.8777777777777778\n",
      "accuracy: 0.8777777777777778\n",
      "accuracy: 0.8777777777777778\n",
      "accuracy: 0.8888888888888888\n",
      "accuracy: 0.8777777777777778\n",
      "accuracy: 0.9222222222222223\n",
      "mean_acc 0.8811111111111112\n"
     ]
    }
   ],
   "source": [
    "train = pd.read_csv('EdTech_train_data.csv')\n",
    "GMAT = pd.DataFrame(train['GMAT'])\n",
    "GMAT[GMAT<1]=0\n",
    "GMAT[GMAT>=1]=1\n",
    "train_X = copy.deepcopy(train)\n",
    "train_X['GMAT>=1'] = GMAT.values\n",
    "train_X = train_X.drop(['No','rank'],axis=1)\n",
    "train_y = train['rank']\n",
    "#将dataframe按列合并\n",
    "X = train_X.values\n",
    "y = train_y.values\n",
    "y[y!=0]=123\n",
    "model = RandomForestClassifier(n_estimators=100, class_weight={0:1,123:8},random_state=2)\n",
    "skf = StratifiedKFold(n_splits=10,shuffle=True,random_state=0)\n",
    "accs = []\n",
    "for train_index, test_index in skf.split(X, y):\n",
    "    X_train, X_test = X[train_index], X[test_index]\n",
    "    y_train, y_test = y[train_index], y[test_index]\n",
    "    model.fit(X_train,y_train)\n",
    "    y_pred = model.predict(X_test)\n",
    "    acc = accuracy_score(y_test,y_pred)\n",
    "    accs.append(acc)\n",
    "    print('accuracy:', acc)\n",
    "print('mean_acc',np.mean(np.array(accs)))"
   ]
  },
  {
   "cell_type": "markdown",
   "metadata": {},
   "source": [
    "策略3：对GPA新增一列判断是否大于0"
   ]
  },
  {
   "cell_type": "code",
   "execution_count": 29,
   "metadata": {},
   "outputs": [
    {
     "name": "stdout",
     "output_type": "stream",
     "text": [
      "accuracy: 0.9111111111111111\n",
      "accuracy: 0.8666666666666667\n",
      "accuracy: 0.8444444444444444\n",
      "accuracy: 0.8555555555555555\n",
      "accuracy: 0.8888888888888888\n",
      "accuracy: 0.8777777777777778\n",
      "accuracy: 0.8777777777777778\n",
      "accuracy: 0.8666666666666667\n",
      "accuracy: 0.8777777777777778\n",
      "accuracy: 0.9222222222222223\n",
      "mean_acc 0.8788888888888889\n"
     ]
    }
   ],
   "source": [
    "train = pd.read_csv('EdTech_train_data.csv')\n",
    "GPA = pd.DataFrame(train[' GPA'])\n",
    "GPA[GPA<1]=0\n",
    "GPA[GPA>=1]=1\n",
    "train_X = copy.deepcopy(train)\n",
    "train_X[' GPA>=1'] = GPA.values\n",
    "train_X = train_X.drop(['No','rank'],axis=1)\n",
    "train_y = train['rank']\n",
    "#将dataframe按列合并\n",
    "X = train_X.values\n",
    "y = train_y.values\n",
    "y[y!=0]=123\n",
    "model = RandomForestClassifier(n_estimators=100, class_weight={0:1,123:8},random_state=2)\n",
    "skf = StratifiedKFold(n_splits=10,shuffle=True,random_state=0)\n",
    "accs = []\n",
    "for train_index, test_index in skf.split(X, y):\n",
    "    X_train, X_test = X[train_index], X[test_index]\n",
    "    y_train, y_test = y[train_index], y[test_index]\n",
    "    model.fit(X_train,y_train)\n",
    "    y_pred = model.predict(X_test)\n",
    "    acc = accuracy_score(y_test,y_pred)\n",
    "    accs.append(acc)\n",
    "    print('accuracy:', acc)\n",
    "print('mean_acc',np.mean(np.array(accs)))"
   ]
  },
  {
   "cell_type": "markdown",
   "metadata": {},
   "source": [
    "策略4：对GRE新增一列判断是否大于0"
   ]
  },
  {
   "cell_type": "code",
   "execution_count": 30,
   "metadata": {},
   "outputs": [
    {
     "name": "stdout",
     "output_type": "stream",
     "text": [
      "accuracy: 0.9222222222222223\n",
      "accuracy: 0.8666666666666667\n",
      "accuracy: 0.8444444444444444\n",
      "accuracy: 0.8555555555555555\n",
      "accuracy: 0.9\n",
      "accuracy: 0.8888888888888888\n",
      "accuracy: 0.8777777777777778\n",
      "accuracy: 0.8666666666666667\n",
      "accuracy: 0.8777777777777778\n",
      "accuracy: 0.9222222222222223\n",
      "mean_acc 0.8822222222222222\n"
     ]
    }
   ],
   "source": [
    "train = pd.read_csv('EdTech_train_data.csv')\n",
    "GRE = pd.DataFrame(train['GRE'])\n",
    "GRE[GRE<1]=0\n",
    "GRE[GRE>=1]=1\n",
    "train_X = copy.deepcopy(train)\n",
    "train_X['GRE>=1'] = GRE.values\n",
    "train_X = train_X.drop(['No','rank'],axis=1)\n",
    "train_y = train['rank']\n",
    "#将dataframe按列合并\n",
    "X = train_X.values\n",
    "y = train_y.values\n",
    "y[y!=0]=123\n",
    "model = RandomForestClassifier(n_estimators=100, class_weight={0:1,123:8},random_state=2)\n",
    "skf = StratifiedKFold(n_splits=10,shuffle=True,random_state=0)\n",
    "accs = []\n",
    "for train_index, test_index in skf.split(X, y):\n",
    "    X_train, X_test = X[train_index], X[test_index]\n",
    "    y_train, y_test = y[train_index], y[test_index]\n",
    "    model.fit(X_train,y_train)\n",
    "    y_pred = model.predict(X_test)\n",
    "    acc = accuracy_score(y_test,y_pred)\n",
    "    accs.append(acc)\n",
    "    print('accuracy:', acc)\n",
    "print('mean_acc',np.mean(np.array(accs)))"
   ]
  },
  {
   "cell_type": "markdown",
   "metadata": {},
   "source": [
    "策略5：对Major做onehot"
   ]
  },
  {
   "cell_type": "code",
   "execution_count": 31,
   "metadata": {},
   "outputs": [
    {
     "name": "stdout",
     "output_type": "stream",
     "text": [
      "accuracy: 0.8888888888888888\n",
      "accuracy: 0.8777777777777778\n",
      "accuracy: 0.8555555555555555\n",
      "accuracy: 0.8444444444444444\n",
      "accuracy: 0.9\n",
      "accuracy: 0.8888888888888888\n",
      "accuracy: 0.8777777777777778\n",
      "accuracy: 0.8333333333333334\n",
      "accuracy: 0.8777777777777778\n",
      "accuracy: 0.8777777777777778\n",
      "mean_acc 0.8722222222222223\n"
     ]
    }
   ],
   "source": [
    "train = pd.read_csv('EdTech_train_data.csv')\n",
    "Major = pd.DataFrame(train['Major'],dtype='object')\n",
    "Major_hot = pd.get_dummies(Major)\n",
    "train_X =  train.drop(['No','rank','Major'],axis=1)\n",
    "train_y = train['rank']\n",
    "#将dataframe按列合并\n",
    "X = train_X.join(Major_hot,how='outer').values\n",
    "y = train_y.values\n",
    "y[y!=0]=123\n",
    "model = RandomForestClassifier(n_estimators=100, class_weight={0:1,123:8},random_state=2)\n",
    "skf = StratifiedKFold(n_splits=10,shuffle=True,random_state=0)\n",
    "accs = []\n",
    "for train_index, test_index in skf.split(X, y):\n",
    "    X_train, X_test = X[train_index], X[test_index]\n",
    "    y_train, y_test = y[train_index], y[test_index]\n",
    "    model.fit(X_train,y_train)\n",
    "    y_pred = model.predict(X_test)\n",
    "    acc = accuracy_score(y_test,y_pred)\n",
    "    accs.append(acc)\n",
    "    print('accuracy:', acc)\n",
    "print('mean_acc',np.mean(np.array(accs)))"
   ]
  },
  {
   "cell_type": "markdown",
   "metadata": {},
   "source": [
    "策略6：删除Major"
   ]
  },
  {
   "cell_type": "code",
   "execution_count": 32,
   "metadata": {},
   "outputs": [
    {
     "name": "stdout",
     "output_type": "stream",
     "text": [
      "accuracy: 0.9\n",
      "accuracy: 0.8777777777777778\n",
      "accuracy: 0.8555555555555555\n",
      "accuracy: 0.8666666666666667\n",
      "accuracy: 0.9111111111111111\n",
      "accuracy: 0.8555555555555555\n",
      "accuracy: 0.8777777777777778\n",
      "accuracy: 0.8777777777777778\n",
      "accuracy: 0.8888888888888888\n",
      "accuracy: 0.8888888888888888\n",
      "mean_acc 0.8800000000000001\n"
     ]
    }
   ],
   "source": [
    "train = pd.read_csv('EdTech_train_data.csv')\n",
    "train_X = train.drop(['No','rank','Major'],axis=1)\n",
    "train_y = train['rank']\n",
    "#将dataframe按列合并\n",
    "X = train_X.values\n",
    "y = train_y.values\n",
    "y[y!=0]=123\n",
    "model = RandomForestClassifier(n_estimators=100, class_weight={0:1,123:8},random_state=2)\n",
    "skf = StratifiedKFold(n_splits=10,shuffle=True,random_state=0)\n",
    "accs = []\n",
    "for train_index, test_index in skf.split(X, y):\n",
    "    X_train, X_test = X[train_index], X[test_index]\n",
    "    y_train, y_test = y[train_index], y[test_index]\n",
    "    model.fit(X_train,y_train)\n",
    "    y_pred = model.predict(X_test)\n",
    "    acc = accuracy_score(y_test,y_pred)\n",
    "    accs.append(acc)\n",
    "    print('accuracy:', acc)\n",
    "print('mean_acc',np.mean(np.array(accs)))"
   ]
  },
  {
   "cell_type": "markdown",
   "metadata": {},
   "source": [
    "策略8：计算出每个不同取值对应的label的取值变化，对major再分类"
   ]
  },
  {
   "cell_type": "code",
   "execution_count": 33,
   "metadata": {},
   "outputs": [],
   "source": [
    "train = pd.read_csv('EdTech_train_data.csv')\n",
    "#根据Major的分数来对rank做分组，求每个分组的均值\n",
    "Major_group_mean = pd.DataFrame()\n",
    "Major_group_mean['Major'] = train.groupby(\"Major\")['rank'].mean().index\n",
    "Major_group_mean['mean_rank'] = train.groupby(\"Major\")['rank'].mean().values "
   ]
  },
  {
   "cell_type": "code",
   "execution_count": 34,
   "metadata": {},
   "outputs": [],
   "source": [
    "df = Major_group_mean.sort_index(by='mean_rank')\n",
    "m1 = df[0:80]['Major'].values\n",
    "m2 = df[80:160]['Major'].values\n",
    "m3 = df[160:240]['Major'].values\n",
    "m4 = df[240:]['Major'].values\n",
    "#构建替换字典\n",
    "dic = {}\n",
    "for i in m1:\n",
    "    dic[i]='A'\n",
    "for i in m2:\n",
    "    dic[i]='B'\n",
    "for i in m3:\n",
    "    dic[i]='C'\n",
    "for i in m4:\n",
    "    dic[i]='D'\n",
    "Major = pd.DataFrame(train['Major'],dtype='object')\n",
    "Major.replace(dic,inplace=True)"
   ]
  },
  {
   "cell_type": "markdown",
   "metadata": {},
   "source": [
    "1)做onehot"
   ]
  },
  {
   "cell_type": "code",
   "execution_count": 35,
   "metadata": {},
   "outputs": [
    {
     "name": "stdout",
     "output_type": "stream",
     "text": [
      "accuracy: 0.9\n",
      "accuracy: 0.8333333333333334\n",
      "accuracy: 0.8222222222222222\n",
      "accuracy: 0.8333333333333334\n",
      "accuracy: 0.8777777777777778\n",
      "accuracy: 0.9\n",
      "accuracy: 0.8333333333333334\n",
      "accuracy: 0.9111111111111111\n",
      "accuracy: 0.9111111111111111\n",
      "accuracy: 0.9111111111111111\n",
      "mean_acc 0.8733333333333334\n"
     ]
    }
   ],
   "source": [
    "Major_hot = pd.get_dummies(Major)\n",
    "train_X = train.drop(['No','rank','Major'],axis=1)\n",
    "train_y = train['rank']\n",
    "#将dataframe按列合并\n",
    "X = train_X.join(Major_hot,how='outer').values\n",
    "y = train_y.values\n",
    "y[y!=0]=123\n",
    "model = RandomForestClassifier(n_estimators=100, class_weight={0:1,123:8},random_state=2)\n",
    "skf = StratifiedKFold(n_splits=10,shuffle=True,random_state=0)\n",
    "accs = []\n",
    "for train_index, test_index in skf.split(X, y):\n",
    "    X_train, X_test = X[train_index], X[test_index]\n",
    "    y_train, y_test = y[train_index], y[test_index]\n",
    "    model.fit(X_train,y_train)\n",
    "    y_pred = model.predict(X_test)\n",
    "    acc = accuracy_score(y_test,y_pred)\n",
    "    accs.append(acc)\n",
    "    print('accuracy:', acc)\n",
    "print('mean_acc',np.mean(np.array(accs)))"
   ]
  },
  {
   "cell_type": "markdown",
   "metadata": {},
   "source": [
    "2）labelencoder"
   ]
  },
  {
   "cell_type": "code",
   "execution_count": 36,
   "metadata": {},
   "outputs": [],
   "source": [
    "df = Major_group_mean.sort_index(by='mean_rank')\n",
    "m1 = df[0:80]['Major'].values\n",
    "m2 = df[80:160]['Major'].values\n",
    "m3 = df[160:240]['Major'].values\n",
    "m4 = df[240:]['Major'].values\n",
    "#构建替换字典\n",
    "dic = {}\n",
    "for i in m1:\n",
    "    dic[i]=1\n",
    "for i in m2:\n",
    "    dic[i]=2\n",
    "for i in m3:\n",
    "    dic[i]=3\n",
    "for i in m4:\n",
    "    dic[i]=4\n",
    "Major = pd.DataFrame(train['Major'],dtype='object')\n",
    "Major.replace(dic,inplace=True)"
   ]
  },
  {
   "cell_type": "code",
   "execution_count": 37,
   "metadata": {},
   "outputs": [
    {
     "name": "stdout",
     "output_type": "stream",
     "text": [
      "accuracy: 0.9222222222222223\n",
      "accuracy: 0.8888888888888888\n",
      "accuracy: 0.8333333333333334\n",
      "accuracy: 0.8555555555555555\n",
      "accuracy: 0.9333333333333333\n",
      "accuracy: 0.8888888888888888\n",
      "accuracy: 0.8555555555555555\n",
      "accuracy: 0.9333333333333333\n",
      "accuracy: 0.8888888888888888\n",
      "accuracy: 0.8777777777777778\n",
      "mean_acc 0.8877777777777778\n"
     ]
    }
   ],
   "source": [
    "train_X = train.drop(['No','rank','Major'],axis=1)\n",
    "train_X['Major'] = Major\n",
    "train_y = train['rank']\n",
    "#将dataframe按列合并\n",
    "X = train_X.values\n",
    "y = train_y.values\n",
    "y[y!=0]=123\n",
    "model = RandomForestClassifier(n_estimators=100, class_weight={0:1,123:8},random_state=2)\n",
    "skf = StratifiedKFold(n_splits=10,shuffle=True,random_state=0)\n",
    "accs = []\n",
    "for train_index, test_index in skf.split(X, y):\n",
    "    X_train, X_test = X[train_index], X[test_index]\n",
    "    y_train, y_test = y[train_index], y[test_index]\n",
    "    model.fit(X_train,y_train)\n",
    "    y_pred = model.predict(X_test)\n",
    "    acc = accuracy_score(y_test,y_pred)\n",
    "    accs.append(acc)\n",
    "    print('accuracy:', acc)\n",
    "print('mean_acc',np.mean(np.array(accs)))\n",
    "#都没什么用"
   ]
  },
  {
   "cell_type": "markdown",
   "metadata": {},
   "source": [
    "策略9：删除Target Major"
   ]
  },
  {
   "cell_type": "code",
   "execution_count": 38,
   "metadata": {},
   "outputs": [
    {
     "name": "stdout",
     "output_type": "stream",
     "text": [
      "accuracy: 0.8888888888888888\n",
      "accuracy: 0.8666666666666667\n",
      "accuracy: 0.8777777777777778\n",
      "accuracy: 0.8444444444444444\n",
      "accuracy: 0.9333333333333333\n",
      "accuracy: 0.9\n",
      "accuracy: 0.8888888888888888\n",
      "accuracy: 0.8555555555555555\n",
      "accuracy: 0.8666666666666667\n",
      "accuracy: 0.9\n",
      "mean_acc 0.8822222222222222\n"
     ]
    }
   ],
   "source": [
    "train = pd.read_csv('EdTech_train_data.csv')\n",
    "train_X = train.drop(['No','rank','Target Major'],axis=1)\n",
    "train_y = train['rank']\n",
    "#将dataframe按列合并\n",
    "X = train_X.values\n",
    "y = train_y.values\n",
    "y[y!=0]=123\n",
    "model = RandomForestClassifier(n_estimators=100, class_weight={0:1,123:8},random_state=2)\n",
    "skf = StratifiedKFold(n_splits=10,shuffle=True,random_state=0)\n",
    "accs = []\n",
    "for train_index, test_index in skf.split(X, y):\n",
    "    X_train, X_test = X[train_index], X[test_index]\n",
    "    y_train, y_test = y[train_index], y[test_index]\n",
    "    model.fit(X_train,y_train)\n",
    "    y_pred = model.predict(X_test)\n",
    "    acc = accuracy_score(y_test,y_pred)\n",
    "    accs.append(acc)\n",
    "    print('accuracy:', acc)\n",
    "print('mean_acc',np.mean(np.array(accs)))"
   ]
  },
  {
   "cell_type": "markdown",
   "metadata": {},
   "source": [
    "策略10：对Target Major做onehot"
   ]
  },
  {
   "cell_type": "code",
   "execution_count": 39,
   "metadata": {},
   "outputs": [
    {
     "name": "stdout",
     "output_type": "stream",
     "text": [
      "accuracy: 0.8888888888888888\n",
      "accuracy: 0.8444444444444444\n",
      "accuracy: 0.8666666666666667\n",
      "accuracy: 0.8555555555555555\n",
      "accuracy: 0.8777777777777778\n",
      "accuracy: 0.8666666666666667\n",
      "accuracy: 0.8888888888888888\n",
      "accuracy: 0.8444444444444444\n",
      "accuracy: 0.8666666666666667\n",
      "accuracy: 0.8888888888888888\n",
      "mean_acc 0.868888888888889\n"
     ]
    }
   ],
   "source": [
    "train = pd.read_csv('EdTech_train_data.csv')\n",
    "Tar_Major = pd.DataFrame(train['Target Major'],dtype='object')\n",
    "Tar_Major_hot = pd.get_dummies(Tar_Major)\n",
    "train_X = train.drop(['No','rank','Target Major'],axis=1)\n",
    "train_y = train['rank']\n",
    "#将dataframe按列合并\n",
    "X = train_X.join(Tar_Major_hot,how='outer').values\n",
    "y = train_y.values\n",
    "y[y!=0]=123\n",
    "model = RandomForestClassifier(n_estimators=100, class_weight={0:1,123:8},random_state=2)\n",
    "skf = StratifiedKFold(n_splits=10,shuffle=True,random_state=0)\n",
    "accs = []\n",
    "for train_index, test_index in skf.split(X, y):\n",
    "    X_train, X_test = X[train_index], X[test_index]\n",
    "    y_train, y_test = y[train_index], y[test_index]\n",
    "    model.fit(X_train,y_train)\n",
    "    y_pred = model.predict(X_test)\n",
    "    acc = accuracy_score(y_test,y_pred)\n",
    "    accs.append(acc)\n",
    "    print('accuracy:', acc)\n",
    "print('mean_acc',np.mean(np.array(accs)))"
   ]
  },
  {
   "cell_type": "markdown",
   "metadata": {},
   "source": [
    "策略11：计算出每个不同取值对应的label的取值变化，对Target Major再分类"
   ]
  },
  {
   "cell_type": "code",
   "execution_count": 40,
   "metadata": {},
   "outputs": [
    {
     "name": "stdout",
     "output_type": "stream",
     "text": [
      "accuracy: 0.9111111111111111\n",
      "accuracy: 0.8666666666666667\n",
      "accuracy: 0.8\n",
      "accuracy: 0.8111111111111111\n",
      "accuracy: 0.8666666666666667\n",
      "accuracy: 0.8777777777777778\n",
      "accuracy: 0.9\n",
      "accuracy: 0.9\n",
      "accuracy: 0.8666666666666667\n",
      "accuracy: 0.9333333333333333\n",
      "mean_acc 0.8733333333333334\n"
     ]
    }
   ],
   "source": [
    "#根据Target Major的分数来对rank做分组，求每个分组的均值\n",
    "train = pd.read_csv('EdTech_train_data.csv')\n",
    "Major_group_mean = pd.DataFrame()\n",
    "Major_group_mean['Target Major'] = train.groupby(\"Target Major\")['rank'].mean().index\n",
    "Major_group_mean['mean_rank'] = train.groupby(\"Target Major\")['rank'].mean().values \n",
    "df = Major_group_mean.sort_index(by='mean_rank')\n",
    "m1 = df[0:100]['Target Major'].values\n",
    "m2 = df[100:200]['Target Major'].values\n",
    "m3 = df[200:300]['Target Major'].values\n",
    "m4 = df[300:]['Target Major'].values\n",
    "#构建替换字典\n",
    "dic = {}\n",
    "for i in m1:\n",
    "    dic[i]='A'\n",
    "for i in m2:\n",
    "    dic[i]='B'\n",
    "for i in m3:\n",
    "    dic[i]='C'\n",
    "for i in m4:\n",
    "    dic[i]='D'\n",
    "Tar_Major = pd.DataFrame(train['Target Major'],dtype='object')\n",
    "Tar_Major.replace(dic,inplace=True)\n",
    "Tar_Major_hot = pd.get_dummies(Tar_Major)\n",
    "\n",
    "train_X = train.drop(['No','rank','Target Major'],axis=1)\n",
    "train_y = train['rank']\n",
    "#将dataframe按列合并\n",
    "X = train_X.join(Tar_Major_hot,how='outer').values\n",
    "y = train_y.values\n",
    "y[y!=0]=123\n",
    "model = RandomForestClassifier(n_estimators=100, class_weight={0:1,123:8},random_state=2)\n",
    "skf = StratifiedKFold(n_splits=10,shuffle=True,random_state=0)\n",
    "accs = []\n",
    "for train_index, test_index in skf.split(X, y):\n",
    "    X_train, X_test = X[train_index], X[test_index]\n",
    "    y_train, y_test = y[train_index], y[test_index]\n",
    "    model.fit(X_train,y_train)\n",
    "    y_pred = model.predict(X_test)\n",
    "    acc = accuracy_score(y_test,y_pred)\n",
    "    accs.append(acc)\n",
    "    print('accuracy:', acc)\n",
    "print('mean_acc',np.mean(np.array(accs)))"
   ]
  },
  {
   "cell_type": "markdown",
   "metadata": {},
   "source": [
    "结论：  \n",
    "也不需要做特征工程"
   ]
  },
  {
   "cell_type": "markdown",
   "metadata": {},
   "source": [
    "### 5、建模和调参"
   ]
  },
  {
   "cell_type": "markdown",
   "metadata": {},
   "source": [
    "#### 1、LR"
   ]
  },
  {
   "cell_type": "code",
   "execution_count": 41,
   "metadata": {},
   "outputs": [
    {
     "name": "stdout",
     "output_type": "stream",
     "text": [
      "accuracy: 0.8444444444444444\n",
      "accuracy: 0.8888888888888888\n",
      "accuracy: 0.8777777777777778\n",
      "accuracy: 0.8\n",
      "accuracy: 0.9\n",
      "accuracy: 0.8777777777777778\n",
      "accuracy: 0.8444444444444444\n",
      "accuracy: 0.8666666666666667\n",
      "accuracy: 0.8555555555555555\n",
      "accuracy: 0.8444444444444444\n",
      "mean_acc 0.86\n"
     ]
    }
   ],
   "source": [
    "train = pd.read_csv('EdTech_train_data.csv')\n",
    "train_X = train.drop(['No','rank'],axis=1)\n",
    "train_y = train['rank']\n",
    "#Z-score标准化\n",
    "train_X_norm = (train_X - train_X.mean()) / (train_X.std())\n",
    "X = train_X_norm.values\n",
    "y = train_y.values\n",
    "y[y!=0]=123\n",
    " \n",
    "model = LogisticRegression(C=50,random_state=0)\n",
    "skf = StratifiedKFold(n_splits=10,shuffle=True,random_state=0)\n",
    "accs = []\n",
    "for train_index, test_index in skf.split(X, y):\n",
    "    X_train, X_test = X[train_index], X[test_index]\n",
    "    y_train, y_test = y[train_index], y[test_index]\n",
    "    model.fit(X_train,y_train)\n",
    "    y_pred = model.predict(X_test)\n",
    "    acc = accuracy_score(y_test,y_pred)\n",
    "    accs.append(acc)\n",
    "    print('accuracy:', acc)\n",
    "print('mean_acc',np.mean(np.array(accs)))"
   ]
  },
  {
   "cell_type": "markdown",
   "metadata": {},
   "source": [
    "#### 2、SVM(rbf)"
   ]
  },
  {
   "cell_type": "code",
   "execution_count": 42,
   "metadata": {},
   "outputs": [
    {
     "name": "stdout",
     "output_type": "stream",
     "text": [
      "accuracy: 0.8777777777777778\n",
      "accuracy: 0.8666666666666667\n",
      "accuracy: 0.8777777777777778\n",
      "accuracy: 0.8555555555555555\n",
      "accuracy: 0.9222222222222223\n",
      "accuracy: 0.8666666666666667\n",
      "accuracy: 0.8666666666666667\n",
      "accuracy: 0.8666666666666667\n",
      "accuracy: 0.8333333333333334\n",
      "accuracy: 0.8666666666666667\n",
      "mean_acc 0.8699999999999999\n"
     ]
    }
   ],
   "source": [
    "from sklearn.svm import SVC \n",
    "train = pd.read_csv('EdTech_train_data.csv')\n",
    "train_X = train.drop(['No','rank'],axis=1)\n",
    "train_y = train['rank']\n",
    "#Z-score标准化\n",
    "train_X_norm = (train_X - train_X.mean()) / (train_X.std())\n",
    "X = train_X_norm.values\n",
    "y = train_y.values\n",
    "y[y!=0]=123\n",
    "\n",
    "model =SVC(kernel='rbf', probability=True) \n",
    "skf = StratifiedKFold(n_splits=10,shuffle=True,random_state=0)\n",
    "accs = []\n",
    "for train_index, test_index in skf.split(X, y):\n",
    "    X_train, X_test = X[train_index], X[test_index]\n",
    "    y_train, y_test = y[train_index], y[test_index]\n",
    "    model.fit(X_train,y_train)\n",
    "    y_pred = model.predict(X_test)\n",
    "    acc = accuracy_score(y_test,y_pred)\n",
    "    accs.append(acc)\n",
    "    print('accuracy:', acc)\n",
    "print('mean_acc',np.mean(np.array(accs)))"
   ]
  },
  {
   "cell_type": "markdown",
   "metadata": {},
   "source": [
    "#### 3、KNN"
   ]
  },
  {
   "cell_type": "code",
   "execution_count": 43,
   "metadata": {},
   "outputs": [
    {
     "name": "stdout",
     "output_type": "stream",
     "text": [
      "accuracy: 0.8777777777777778\n",
      "accuracy: 0.8555555555555555\n",
      "accuracy: 0.8777777777777778\n",
      "accuracy: 0.8555555555555555\n",
      "accuracy: 0.8888888888888888\n",
      "accuracy: 0.8555555555555555\n",
      "accuracy: 0.8555555555555555\n",
      "accuracy: 0.8666666666666667\n",
      "accuracy: 0.9111111111111111\n",
      "accuracy: 0.8777777777777778\n",
      "mean_acc 0.8722222222222223\n"
     ]
    }
   ],
   "source": [
    "from sklearn.svm import SVC \n",
    "train = pd.read_csv('EdTech_train_data.csv')\n",
    "train_X = train.drop(['No','rank'],axis=1)\n",
    "train_y = train['rank']\n",
    "#Z-score标准化\n",
    "train_X_norm = (train_X - train_X.mean()) / (train_X.std())\n",
    "X = train_X_norm.values\n",
    "y = train_y.values\n",
    "y[y!=0]=123\n",
    "from sklearn.neighbors import KNeighborsClassifier \n",
    "model = KNeighborsClassifier(n_neighbors =20) \n",
    "skf = StratifiedKFold(n_splits=10,shuffle=True,random_state=0)\n",
    "accs = []\n",
    "for train_index, test_index in skf.split(X, y):\n",
    "    X_train, X_test = X[train_index], X[test_index]\n",
    "    y_train, y_test = y[train_index], y[test_index]\n",
    "    model.fit(X_train,y_train)\n",
    "    y_pred = model.predict(X_test)\n",
    "    acc = accuracy_score(y_test,y_pred)\n",
    "    accs.append(acc)\n",
    "    print('accuracy:', acc)\n",
    "print('mean_acc',np.mean(np.array(accs)))"
   ]
  },
  {
   "cell_type": "markdown",
   "metadata": {},
   "source": [
    "#### 4、RF"
   ]
  },
  {
   "cell_type": "code",
   "execution_count": 44,
   "metadata": {},
   "outputs": [
    {
     "name": "stdout",
     "output_type": "stream",
     "text": [
      "accuracy: 0.9222222222222223\n",
      "accuracy: 0.8666666666666667\n",
      "accuracy: 0.8555555555555555\n",
      "accuracy: 0.8333333333333334\n",
      "accuracy: 0.9333333333333333\n",
      "accuracy: 0.8888888888888888\n",
      "accuracy: 0.8888888888888888\n",
      "accuracy: 0.8555555555555555\n",
      "accuracy: 0.8888888888888888\n",
      "accuracy: 0.9111111111111111\n",
      "mean_acc 0.8844444444444445\n"
     ]
    }
   ],
   "source": [
    "from sklearn.svm import SVC \n",
    "train = pd.read_csv('EdTech_train_data.csv')\n",
    "train_X = train.drop(['No','rank'],axis=1)\n",
    "train_y = train['rank']\n",
    "#Z-score标准化\n",
    "train_X_norm = (train_X - train_X.mean()) / (train_X.std())\n",
    "X = train_X_norm.values\n",
    "y = train_y.values\n",
    "y[y!=0]=123\n",
    "\n",
    "#数值型特征做标准化试试\n",
    "model = RandomForestClassifier(n_estimators=500, n_jobs=-1,random_state=0)\n",
    "skf = StratifiedKFold(n_splits=10,shuffle=True,random_state=0)\n",
    "accs = []\n",
    "for train_index, test_index in skf.split(X, y):\n",
    "    X_train, X_test = X[train_index], X[test_index]\n",
    "    y_train, y_test = y[train_index], y[test_index]\n",
    "    model.fit(X_train,y_train)\n",
    "    y_pred = model.predict(X_test)\n",
    "    acc = accuracy_score(y_test,y_pred)\n",
    "    accs.append(acc)\n",
    "    print('accuracy:', acc)\n",
    "print('mean_acc',np.mean(np.array(accs)))"
   ]
  },
  {
   "cell_type": "code",
   "execution_count": 45,
   "metadata": {},
   "outputs": [
    {
     "name": "stdout",
     "output_type": "stream",
     "text": [
      "accuracy: 0.9111111111111111\n",
      "accuracy: 0.8777777777777778\n",
      "accuracy: 0.8666666666666667\n",
      "accuracy: 0.8555555555555555\n",
      "accuracy: 0.9111111111111111\n",
      "accuracy: 0.9111111111111111\n",
      "accuracy: 0.8777777777777778\n",
      "accuracy: 0.8777777777777778\n",
      "accuracy: 0.9\n",
      "accuracy: 0.9333333333333333\n",
      "mean_acc 0.8922222222222222\n"
     ]
    }
   ],
   "source": [
    "train = pd.read_csv('EdTech_train_data.csv')\n",
    "train_X = train.drop(['No','rank'],axis=1)\n",
    "train_y = train['rank']\n",
    "X = train_X.values\n",
    "y = train_y.values\n",
    "y[y!=0]=123\n",
    "#数值型特征做标准化试试\n",
    "model = RandomForestClassifier(n_estimators=100, class_weight={0:1,123:8},random_state=2)\n",
    "skf = StratifiedKFold(n_splits=10,shuffle=True,random_state=0)\n",
    "accs = []\n",
    "for train_index, test_index in skf.split(X, y):\n",
    "    X_train, X_test = X[train_index], X[test_index]\n",
    "    y_train, y_test = y[train_index], y[test_index]\n",
    "    model.fit(X_train,y_train)\n",
    "    y_pred = model.predict(X_test)\n",
    "    acc = accuracy_score(y_test,y_pred)\n",
    "    accs.append(acc)\n",
    "    print('accuracy:', acc)\n",
    "print('mean_acc',np.mean(np.array(accs)))"
   ]
  },
  {
   "cell_type": "markdown",
   "metadata": {},
   "source": [
    "调参"
   ]
  },
  {
   "cell_type": "code",
   "execution_count": 46,
   "metadata": {},
   "outputs": [
    {
     "data": {
      "text/plain": [
       "([mean: 0.86556, std: 0.01528, params: {'max_depth': 12, 'min_samples_split': 3},\n",
       "  mean: 0.86667, std: 0.01491, params: {'max_depth': 12, 'min_samples_split': 5},\n",
       "  mean: 0.85778, std: 0.01474, params: {'max_depth': 12, 'min_samples_split': 8},\n",
       "  mean: 0.85556, std: 0.01217, params: {'max_depth': 12, 'min_samples_split': 10},\n",
       "  mean: 0.86778, std: 0.01160, params: {'max_depth': 14, 'min_samples_split': 3},\n",
       "  mean: 0.87111, std: 0.01736, params: {'max_depth': 14, 'min_samples_split': 5},\n",
       "  mean: 0.86222, std: 0.01333, params: {'max_depth': 14, 'min_samples_split': 8},\n",
       "  mean: 0.86111, std: 0.01427, params: {'max_depth': 14, 'min_samples_split': 10},\n",
       "  mean: 0.86667, std: 0.01315, params: {'max_depth': 17, 'min_samples_split': 3},\n",
       "  mean: 0.87111, std: 0.01133, params: {'max_depth': 17, 'min_samples_split': 5},\n",
       "  mean: 0.86222, std: 0.01333, params: {'max_depth': 17, 'min_samples_split': 8},\n",
       "  mean: 0.86222, std: 0.01423, params: {'max_depth': 17, 'min_samples_split': 10},\n",
       "  mean: 0.86556, std: 0.01444, params: {'max_depth': 20, 'min_samples_split': 3},\n",
       "  mean: 0.87000, std: 0.01222, params: {'max_depth': 20, 'min_samples_split': 5},\n",
       "  mean: 0.86333, std: 0.01575, params: {'max_depth': 20, 'min_samples_split': 8},\n",
       "  mean: 0.86111, std: 0.01427, params: {'max_depth': 20, 'min_samples_split': 10}],\n",
       " {'max_depth': 14, 'min_samples_split': 5},\n",
       " 0.8711111111111111)"
      ]
     },
     "execution_count": 46,
     "metadata": {},
     "output_type": "execute_result"
    }
   ],
   "source": [
    "from sklearn.grid_search import GridSearchCV \n",
    "param_test2 = {'max_depth':[12,14,17,20], 'min_samples_split':[3, 5,8,10]}\n",
    "gsearch2 = GridSearchCV(estimator = RandomForestClassifier(n_estimators=100, \n",
    "                                                           class_weight={0:1,123:8},random_state=2),\n",
    "   param_grid = param_test2, scoring='accuracy',iid=False, cv=10)\n",
    "gsearch2.fit(X,y)\n",
    "gsearch2.grid_scores_, gsearch2.best_params_, gsearch2.best_score_"
   ]
  },
  {
   "cell_type": "markdown",
   "metadata": {},
   "source": [
    "#### 4、XGB"
   ]
  },
  {
   "cell_type": "code",
   "execution_count": 47,
   "metadata": {},
   "outputs": [],
   "source": [
    "train = pd.read_csv('EdTech_train_data.csv')\n",
    "train_X = train.drop(['No','rank'],axis=1)\n",
    "train_y = train['rank']\n",
    "X = train_X.values\n",
    "y = train_y.values\n",
    "y[y!=0]=123"
   ]
  },
  {
   "cell_type": "code",
   "execution_count": 48,
   "metadata": {},
   "outputs": [
    {
     "name": "stdout",
     "output_type": "stream",
     "text": [
      "accuracy: 0.8888888888888888\n",
      "accuracy: 0.8666666666666667\n",
      "accuracy: 0.8444444444444444\n",
      "accuracy: 0.8222222222222222\n",
      "accuracy: 0.9222222222222223\n",
      "accuracy: 0.8777777777777778\n",
      "accuracy: 0.8555555555555555\n",
      "accuracy: 0.8777777777777778\n",
      "accuracy: 0.8888888888888888\n",
      "accuracy: 0.8888888888888888\n",
      "mean_acc 0.8733333333333334\n"
     ]
    }
   ],
   "source": [
    "model = XGBClassifier(\n",
    " learning_rate =0.1,\n",
    " random_state=0,\n",
    " n_estimators=50,\n",
    " max_depth=5,\n",
    " min_child_weight=1,\n",
    " gamma=0.1,\n",
    " subsample=0.8,\n",
    " colsample_bytree=0.8,\n",
    " objective= 'binary:logistic',\n",
    " nthread=4,\n",
    " scale_pos_weight=1,\n",
    " seed=27)\n",
    "skf = StratifiedKFold(n_splits=10,shuffle=True,random_state=0)\n",
    "accs = []\n",
    "for train_index, test_index in skf.split(X, y):\n",
    "    X_train, X_test = X[train_index], X[test_index]\n",
    "    y_train, y_test = y[train_index], y[test_index]\n",
    "    model.fit(X_train,y_train)\n",
    "    y_pred = model.predict(X_test)\n",
    "    acc = accuracy_score(y_test,y_pred)\n",
    "    accs.append(acc)\n",
    "    print('accuracy:', acc)\n",
    "print('mean_acc',np.mean(np.array(accs)))"
   ]
  },
  {
   "cell_type": "markdown",
   "metadata": {},
   "source": [
    "2）max_depth 和 min_weight 参数调优"
   ]
  },
  {
   "cell_type": "code",
   "execution_count": 49,
   "metadata": {},
   "outputs": [
    {
     "data": {
      "text/plain": [
       "([mean: 0.87778, std: 0.03143, params: {'max_depth': 3, 'min_child_weight': 1},\n",
       "  mean: 0.86778, std: 0.02959, params: {'max_depth': 3, 'min_child_weight': 3},\n",
       "  mean: 0.85889, std: 0.02857, params: {'max_depth': 3, 'min_child_weight': 5},\n",
       "  mean: 0.87444, std: 0.02857, params: {'max_depth': 4, 'min_child_weight': 1},\n",
       "  mean: 0.87444, std: 0.02678, params: {'max_depth': 4, 'min_child_weight': 3},\n",
       "  mean: 0.87222, std: 0.02687, params: {'max_depth': 4, 'min_child_weight': 5},\n",
       "  mean: 0.87000, std: 0.02487, params: {'max_depth': 5, 'min_child_weight': 1},\n",
       "  mean: 0.86000, std: 0.02820, params: {'max_depth': 5, 'min_child_weight': 3},\n",
       "  mean: 0.86333, std: 0.03184, params: {'max_depth': 5, 'min_child_weight': 5},\n",
       "  mean: 0.86889, std: 0.02667, params: {'max_depth': 6, 'min_child_weight': 1},\n",
       "  mean: 0.86444, std: 0.02096, params: {'max_depth': 6, 'min_child_weight': 3},\n",
       "  mean: 0.86333, std: 0.02437, params: {'max_depth': 6, 'min_child_weight': 5}],\n",
       " {'max_depth': 3, 'min_child_weight': 1},\n",
       " 0.8777777777777779)"
      ]
     },
     "execution_count": 49,
     "metadata": {},
     "output_type": "execute_result"
    }
   ],
   "source": [
    "param_test1 = {\n",
    " 'max_depth':[3,4,5,6],\n",
    " 'min_child_weight':[1,3,5]\n",
    "}\n",
    "gsearch1 = GridSearchCV(estimator = XGBClassifier(\n",
    " learning_rate =0.1,\n",
    " random_state=0,\n",
    " n_estimators=50,\n",
    " max_depth=5,\n",
    " min_child_weight=1,\n",
    " gamma=0,\n",
    " subsample=0.8,\n",
    " colsample_bytree=0.8,\n",
    " objective= 'binary:logistic',\n",
    " nthread=4,\n",
    " scale_pos_weight=1,\n",
    " seed=27), \n",
    "param_grid = param_test1, scoring='accuracy',iid=False, cv=10)\n",
    "gsearch1.fit(X,y)\n",
    "gsearch1.grid_scores_, gsearch1.best_params_,     gsearch1.best_score_"
   ]
  },
  {
   "cell_type": "markdown",
   "metadata": {},
   "source": [
    "3)gamma参数调优"
   ]
  },
  {
   "cell_type": "code",
   "execution_count": 50,
   "metadata": {},
   "outputs": [
    {
     "data": {
      "text/plain": [
       "([mean: 0.87778, std: 0.03143, params: {'gamma': 0},\n",
       "  mean: 0.87667, std: 0.03199, params: {'gamma': 0.01},\n",
       "  mean: 0.87778, std: 0.03220, params: {'gamma': 0.08},\n",
       "  mean: 0.87667, std: 0.03387, params: {'gamma': 0.1},\n",
       "  mean: 0.87667, std: 0.03387, params: {'gamma': 0.12}],\n",
       " {'gamma': 0},\n",
       " 0.8777777777777779)"
      ]
     },
     "execution_count": 50,
     "metadata": {},
     "output_type": "execute_result"
    }
   ],
   "source": [
    "param_test1 = {\n",
    " 'gamma':[0,0.01,0.08,0.1,0.12]\n",
    "}\n",
    "gsearch1 = GridSearchCV(estimator = XGBClassifier(\n",
    " learning_rate =0.1,\n",
    " random_state=0,\n",
    " n_estimators=50,\n",
    " max_depth=3,\n",
    " min_child_weight=1,\n",
    " gamma=0,\n",
    " subsample=0.8,\n",
    " colsample_bytree=0.8,\n",
    " objective= 'binary:logistic',\n",
    " nthread=4,\n",
    " scale_pos_weight=1,\n",
    " seed=27), \n",
    "param_grid = param_test1, scoring='accuracy',iid=False, cv=10)\n",
    "gsearch1.fit(X,y)\n",
    "gsearch1.grid_scores_, gsearch1.best_params_,     gsearch1.best_score_"
   ]
  },
  {
   "cell_type": "markdown",
   "metadata": {},
   "source": [
    "4)调整subsample 和 colsample_bytree 参数"
   ]
  },
  {
   "cell_type": "code",
   "execution_count": 51,
   "metadata": {},
   "outputs": [
    {
     "data": {
      "text/plain": [
       "([mean: 0.87111, std: 0.02685, params: {'colsample_bytree': 0.49, 'subsample': 0.81},\n",
       "  mean: 0.87222, std: 0.02822, params: {'colsample_bytree': 0.49, 'subsample': 0.82},\n",
       "  mean: 0.86889, std: 0.02802, params: {'colsample_bytree': 0.49, 'subsample': 0.83},\n",
       "  mean: 0.87667, std: 0.02556, params: {'colsample_bytree': 0.5, 'subsample': 0.81},\n",
       "  mean: 0.87444, std: 0.02813, params: {'colsample_bytree': 0.5, 'subsample': 0.82},\n",
       "  mean: 0.87444, std: 0.03145, params: {'colsample_bytree': 0.5, 'subsample': 0.83},\n",
       "  mean: 0.87667, std: 0.02556, params: {'colsample_bytree': 0.51, 'subsample': 0.81},\n",
       "  mean: 0.87444, std: 0.02813, params: {'colsample_bytree': 0.51, 'subsample': 0.82},\n",
       "  mean: 0.87444, std: 0.03145, params: {'colsample_bytree': 0.51, 'subsample': 0.83},\n",
       "  mean: 0.87667, std: 0.02556, params: {'colsample_bytree': 0.52, 'subsample': 0.81},\n",
       "  mean: 0.87444, std: 0.02813, params: {'colsample_bytree': 0.52, 'subsample': 0.82},\n",
       "  mean: 0.87444, std: 0.03145, params: {'colsample_bytree': 0.52, 'subsample': 0.83},\n",
       "  mean: 0.87667, std: 0.02556, params: {'colsample_bytree': 0.53, 'subsample': 0.81},\n",
       "  mean: 0.87444, std: 0.02813, params: {'colsample_bytree': 0.53, 'subsample': 0.82},\n",
       "  mean: 0.87444, std: 0.03145, params: {'colsample_bytree': 0.53, 'subsample': 0.83}],\n",
       " {'colsample_bytree': 0.5, 'subsample': 0.81},\n",
       " 0.8766666666666667)"
      ]
     },
     "execution_count": 51,
     "metadata": {},
     "output_type": "execute_result"
    }
   ],
   "source": [
    "param_test1 = {\n",
    " 'subsample':[0.81,0.82,0.83],\n",
    " 'colsample_bytree':[0.49,0.5,0.51,0.52,0.53]\n",
    "}\n",
    "gsearch1 = GridSearchCV(estimator = XGBClassifier(\n",
    " learning_rate =0.1,\n",
    " random_state=0,\n",
    " n_estimators=50,\n",
    " max_depth=3,\n",
    " min_child_weight=1,\n",
    " gamma=0,\n",
    " subsample=0.8,\n",
    " colsample_bytree=0.8,\n",
    " objective= 'binary:logistic',\n",
    " nthread=10,\n",
    " scale_pos_weight=1,\n",
    " seed=27), \n",
    "param_grid = param_test1, scoring='accuracy',iid=False, cv=10)\n",
    "gsearch1.fit(X,y)\n",
    "gsearch1.grid_scores_, gsearch1.best_params_,     gsearch1.best_score_"
   ]
  },
  {
   "cell_type": "markdown",
   "metadata": {},
   "source": [
    "5)正则化参数调优"
   ]
  },
  {
   "cell_type": "code",
   "execution_count": 52,
   "metadata": {},
   "outputs": [
    {
     "data": {
      "text/plain": [
       "([mean: 0.87444, std: 0.02813, params: {'reg_alpha': 1e-05},\n",
       "  mean: 0.87333, std: 0.02906, params: {'reg_alpha': 0.01},\n",
       "  mean: 0.87556, std: 0.03289, params: {'reg_alpha': 0.1},\n",
       "  mean: 0.87444, std: 0.03025, params: {'reg_alpha': 1},\n",
       "  mean: 0.83111, std: 0.00831, params: {'reg_alpha': 100}],\n",
       " {'reg_alpha': 0.1},\n",
       " 0.8755555555555556)"
      ]
     },
     "execution_count": 52,
     "metadata": {},
     "output_type": "execute_result"
    }
   ],
   "source": [
    "param_test1 = {\n",
    " 'reg_alpha':[1e-5, 1e-2, 0.1, 1, 100]\n",
    "}\n",
    "gsearch1 = GridSearchCV(estimator = XGBClassifier(\n",
    " learning_rate =0.1,\n",
    " random_state=0,\n",
    " n_estimators=50,\n",
    " max_depth=3,\n",
    " min_child_weight=1,\n",
    " gamma=0,\n",
    " subsample=0.82,\n",
    " colsample_bytree=0.5,\n",
    " objective= 'binary:logistic',\n",
    " nthread=10,\n",
    " scale_pos_weight=1,\n",
    " seed=27), \n",
    "param_grid = param_test1, scoring='accuracy',iid=False, cv=10)\n",
    "gsearch1.fit(X,y)\n",
    "gsearch1.grid_scores_, gsearch1.best_params_,     gsearch1.best_score_"
   ]
  },
  {
   "cell_type": "code",
   "execution_count": 53,
   "metadata": {},
   "outputs": [
    {
     "data": {
      "text/plain": [
       "([mean: 0.87444, std: 0.02813, params: {'learning_rate': 0.1, 'n_estimators': 50},\n",
       "  mean: 0.87111, std: 0.02233, params: {'learning_rate': 0.1, 'n_estimators': 100},\n",
       "  mean: 0.85111, std: 0.02233, params: {'learning_rate': 0.1, 'n_estimators': 1000},\n",
       "  mean: 0.87333, std: 0.02393, params: {'learning_rate': 0.05, 'n_estimators': 50},\n",
       "  mean: 0.87333, std: 0.03031, params: {'learning_rate': 0.05, 'n_estimators': 100},\n",
       "  mean: 0.85111, std: 0.01805, params: {'learning_rate': 0.05, 'n_estimators': 1000},\n",
       "  mean: 0.86444, std: 0.01556, params: {'learning_rate': 0.01, 'n_estimators': 50},\n",
       "  mean: 0.86889, std: 0.01474, params: {'learning_rate': 0.01, 'n_estimators': 100},\n",
       "  mean: 0.86889, std: 0.02266, params: {'learning_rate': 0.01, 'n_estimators': 1000}],\n",
       " {'learning_rate': 0.1, 'n_estimators': 50},\n",
       " 0.8744444444444446)"
      ]
     },
     "execution_count": 53,
     "metadata": {},
     "output_type": "execute_result"
    }
   ],
   "source": [
    "param_test1 = {\n",
    " 'learning_rate':[0.1,0.05,0.01],\n",
    " 'n_estimators':[50,100,1000]\n",
    "}\n",
    "gsearch1 = GridSearchCV(estimator = XGBClassifier(\n",
    " learning_rate =0.1,\n",
    " random_state=0,\n",
    " n_estimators=50,\n",
    " max_depth=3,\n",
    " min_child_weight=1,\n",
    " gamma=0,\n",
    " subsample=0.82,\n",
    " colsample_bytree=0.5,\n",
    " objective= 'binary:logistic',\n",
    " nthread=10,\n",
    " scale_pos_weight=1,\n",
    " seed=27), \n",
    "param_grid = param_test1, scoring='accuracy',iid=False, cv=10)\n",
    "gsearch1.fit(X,y)\n",
    "gsearch1.grid_scores_, gsearch1.best_params_,     gsearch1.best_score_"
   ]
  },
  {
   "cell_type": "markdown",
   "metadata": {},
   "source": [
    "#### 6、LGB"
   ]
  },
  {
   "cell_type": "code",
   "execution_count": 54,
   "metadata": {},
   "outputs": [],
   "source": [
    "train = pd.read_csv('EdTech_train_data.csv')\n",
    "train_X = train.drop(['No','rank'],axis=1)\n",
    "train_y = train['rank']\n",
    "X = train_X.values\n",
    "y = train_y.values\n",
    "y[y!=0]=123"
   ]
  },
  {
   "cell_type": "code",
   "execution_count": 55,
   "metadata": {},
   "outputs": [
    {
     "name": "stdout",
     "output_type": "stream",
     "text": [
      "accuracy: 0.8666666666666667\n",
      "accuracy: 0.8444444444444444\n",
      "accuracy: 0.8333333333333334\n",
      "accuracy: 0.8111111111111111\n",
      "accuracy: 0.8888888888888888\n",
      "accuracy: 0.8444444444444444\n",
      "accuracy: 0.8777777777777778\n",
      "accuracy: 0.8222222222222222\n",
      "accuracy: 0.8888888888888888\n",
      "accuracy: 0.9222222222222223\n",
      "mean_acc 0.8600000000000001\n"
     ]
    }
   ],
   "source": [
    "model = LGBMClassifier(\n",
    "    num_leaves = 20,\n",
    "    max_depth = 11,\n",
    "    bagging_fraction=0.6,\n",
    "    feature_fraction=1.0,\n",
    "    learning_rate = 0.5, \n",
    "    n_estimators = 50, \n",
    "    nthread = 20,\n",
    ")\n",
    "skf = StratifiedKFold(n_splits=10,shuffle=True,random_state=0)\n",
    "accs = []\n",
    "for train_index, test_index in skf.split(X, y):\n",
    "    X_train, X_test = X[train_index], X[test_index]\n",
    "    y_train, y_test = y[train_index], y[test_index]\n",
    "    model.fit(X_train,y_train)\n",
    "    y_pred = model.predict(X_test)\n",
    "    acc = accuracy_score(y_test,y_pred)\n",
    "    accs.append(acc)\n",
    "    print('accuracy:', acc)\n",
    "print('mean_acc',np.mean(np.array(accs)))"
   ]
  },
  {
   "cell_type": "markdown",
   "metadata": {},
   "source": [
    "#### 7、GBDT"
   ]
  },
  {
   "cell_type": "code",
   "execution_count": 56,
   "metadata": {},
   "outputs": [
    {
     "name": "stdout",
     "output_type": "stream",
     "text": [
      "accuracy: 0.9\n",
      "accuracy: 0.8777777777777778\n",
      "accuracy: 0.8666666666666667\n",
      "accuracy: 0.8333333333333334\n",
      "accuracy: 0.9111111111111111\n",
      "accuracy: 0.9111111111111111\n",
      "accuracy: 0.8666666666666667\n",
      "accuracy: 0.8777777777777778\n",
      "accuracy: 0.8888888888888888\n",
      "accuracy: 0.9\n",
      "mean_acc 0.8833333333333334\n"
     ]
    }
   ],
   "source": [
    "train = pd.read_csv('EdTech_train_data.csv')\n",
    "train_X = train.drop(['No','rank'],axis=1)\n",
    "train_y = train['rank']\n",
    "X = train_X.values\n",
    "y = train_y.values\n",
    "y[y!=0]=123\n",
    "\n",
    "model = GradientBoostingClassifier(n_estimators=50,random_state=10, min_samples_split=10,subsample=0.8)\n",
    "skf = StratifiedKFold(n_splits=10,shuffle=True,random_state=0)\n",
    "accs = []\n",
    "for train_index, test_index in skf.split(X, y):\n",
    "    X_train, X_test = X[train_index], X[test_index]\n",
    "    y_train, y_test = y[train_index], y[test_index]\n",
    "    model.fit(X_train,y_train)\n",
    "    y_pred = model.predict(X_test)\n",
    "    acc = accuracy_score(y_test,y_pred)\n",
    "    accs.append(acc)\n",
    "    print('accuracy:', acc)\n",
    "print('mean_acc',np.mean(np.array(accs)))"
   ]
  },
  {
   "cell_type": "code",
   "execution_count": 57,
   "metadata": {},
   "outputs": [
    {
     "data": {
      "text/plain": [
       "([mean: 0.87778, std: 0.02629, params: {'max_depth': 3, 'min_samples_split': 100},\n",
       "  mean: 0.87000, std: 0.02536, params: {'max_depth': 3, 'min_samples_split': 200},\n",
       "  mean: 0.87556, std: 0.02572, params: {'max_depth': 5, 'min_samples_split': 100},\n",
       "  mean: 0.86667, std: 0.02676, params: {'max_depth': 5, 'min_samples_split': 200},\n",
       "  mean: 0.86667, std: 0.01859, params: {'max_depth': 7, 'min_samples_split': 100},\n",
       "  mean: 0.86889, std: 0.01633, params: {'max_depth': 7, 'min_samples_split': 200},\n",
       "  mean: 0.86889, std: 0.01975, params: {'max_depth': 9, 'min_samples_split': 100},\n",
       "  mean: 0.86111, std: 0.02123, params: {'max_depth': 9, 'min_samples_split': 200}],\n",
       " {'max_depth': 3, 'min_samples_split': 100},\n",
       " 0.8777777777777779)"
      ]
     },
     "execution_count": 57,
     "metadata": {},
     "output_type": "execute_result"
    }
   ],
   "source": [
    "param_test2 = {'max_depth':[3,5,7,9], 'min_samples_split':[100,200]}\n",
    "gsearch1 = GridSearchCV(estimator = GradientBoostingClassifier(random_state=10),\n",
    "                       param_grid = param_test2, scoring='accuracy',iid=False,cv=10)\n",
    "gsearch1.fit(X,y)\n",
    "gsearch1.grid_scores_, gsearch1.best_params_, gsearch1.best_score_"
   ]
  },
  {
   "cell_type": "markdown",
   "metadata": {},
   "source": [
    "#### 8、ExtraTrees"
   ]
  },
  {
   "cell_type": "code",
   "execution_count": 58,
   "metadata": {},
   "outputs": [
    {
     "name": "stdout",
     "output_type": "stream",
     "text": [
      "accuracy: 0.9333333333333333\n",
      "accuracy: 0.8555555555555555\n",
      "accuracy: 0.8444444444444444\n",
      "accuracy: 0.8444444444444444\n",
      "accuracy: 0.9555555555555556\n",
      "accuracy: 0.8555555555555555\n",
      "accuracy: 0.8888888888888888\n",
      "accuracy: 0.8888888888888888\n",
      "accuracy: 0.8666666666666667\n",
      "accuracy: 0.9111111111111111\n",
      "mean_acc 0.8844444444444445\n"
     ]
    }
   ],
   "source": [
    "train = pd.read_csv('EdTech_train_data.csv')\n",
    "train_X = train.drop(['No','rank'],axis=1)\n",
    "train_y = train['rank']\n",
    "X = train_X.values\n",
    "y = train_y.values\n",
    "y[y!=0]=123\n",
    "model = ExtraTreesClassifier(n_estimators=100, random_state=50)\n",
    "skf = StratifiedKFold(n_splits=10,shuffle=True,random_state=0)\n",
    "accs = []\n",
    "for train_index, test_index in skf.split(X, y):\n",
    "    X_train, X_test = X[train_index], X[test_index]\n",
    "    y_train, y_test = y[train_index], y[test_index]\n",
    "    model.fit(X_train,y_train)\n",
    "    y_pred = model.predict(X_test)\n",
    "    acc = accuracy_score(y_test,y_pred)\n",
    "    accs.append(acc)\n",
    "    print('accuracy:', acc)\n",
    "print('mean_acc',np.mean(np.array(accs)))"
   ]
  },
  {
   "cell_type": "markdown",
   "metadata": {},
   "source": [
    "### 模型融合-Stacking"
   ]
  },
  {
   "cell_type": "code",
   "execution_count": 59,
   "metadata": {},
   "outputs": [],
   "source": [
    "train = pd.read_csv('EdTech_train_data.csv')\n",
    "train_X = train.drop(['No','rank'],axis=1)\n",
    "train_y = train['rank']\n",
    "X = train_X.values\n",
    "y = train_y.values\n",
    "y[y!=0]=123"
   ]
  },
  {
   "cell_type": "code",
   "execution_count": 60,
   "metadata": {},
   "outputs": [],
   "source": [
    "skf = StratifiedKFold(n_splits=10,shuffle=True,random_state=0)\n",
    "train_indexes = []\n",
    "test_indexes = []\n",
    "for train_index, test_index in skf.split(X, y):\n",
    "    train_indexes.append(train_index)\n",
    "    test_indexes.append(test_index)\n",
    "#取第二折当验证集\n",
    "X_train, X_test = X[train_indexes[6]], X[test_indexes[6]]\n",
    "y_train, y_test = y[train_indexes[6]], y[test_indexes[6]]"
   ]
  },
  {
   "cell_type": "code",
   "execution_count": 61,
   "metadata": {},
   "outputs": [
    {
     "name": "stdout",
     "output_type": "stream",
     "text": [
      "accuracy: 0.8777777777777778\n"
     ]
    }
   ],
   "source": [
    "model = RandomForestClassifier(n_estimators=100, class_weight={0:1,123:8},random_state=2)\n",
    "model.fit(X_train,y_train)\n",
    "y_pred = model.predict(X_test)\n",
    "acc = accuracy_score(y_test,y_pred)\n",
    "print('accuracy:', acc)"
   ]
  },
  {
   "cell_type": "code",
   "execution_count": 62,
   "metadata": {},
   "outputs": [],
   "source": [
    "models = [\n",
    "    RandomForestClassifier(n_estimators=100, class_weight={0:1,123:8},random_state=2),\n",
    "    XGBClassifier(\n",
    "     learning_rate =0.1,\n",
    "     random_state=0,\n",
    "     n_estimators=50,\n",
    "     max_depth=3,\n",
    "     min_child_weight=1,\n",
    "     gamma=0,\n",
    "     subsample=0.82,\n",
    "     colsample_bytree=0.5,\n",
    "     objective= 'binary:logistic',\n",
    "     nthread=10,\n",
    "     scale_pos_weight=1,\n",
    "     seed=27),\n",
    "    GradientBoostingClassifier(n_estimators=50,random_state=10, min_samples_split=10,subsample=0.8),\n",
    "    ExtraTreesClassifier(n_estimators=100, random_state=50)\n",
    "]"
   ]
  },
  {
   "cell_type": "code",
   "execution_count": 63,
   "metadata": {},
   "outputs": [],
   "source": [
    "dataset_blend_train = np.zeros((X_train.shape[0], len(models)))\n",
    "dataset_blend_test = np.zeros((X_test.shape[0], len(models)))\n",
    "skf = StratifiedKFold(n_splits=10,shuffle=True,random_state=0)\n",
    "skf = list(skf.split(X_train, y_train))"
   ]
  },
  {
   "cell_type": "code",
   "execution_count": 64,
   "metadata": {},
   "outputs": [
    {
     "name": "stdout",
     "output_type": "stream",
     "text": [
      "Training classifier  0\n",
      "Training classifier  1\n",
      "Training classifier  2\n",
      "Training classifier  3\n"
     ]
    }
   ],
   "source": [
    "for j, clf in enumerate(models):\n",
    "    print ('Training classifier ' ,j)\n",
    "    dataset_blend_test_j = np.zeros((X_test.shape[0], len(skf))) # Number of testing data x Number of folds , we will take the mean of the predictions later\n",
    "    for i, (train_index, cv_index) in enumerate(skf):\n",
    "#         print('Fold  ',  i)\n",
    "\n",
    "        X_train_fold, y_train_fold, X_test_fold, y_test_fold = X_train[train_index], y_train[train_index], X_train[cv_index], y_train[cv_index]\n",
    "        clf.fit(X_train_fold, y_train_fold)\n",
    "        y_submission = clf.predict_proba(X_test_fold)[:,1]\n",
    "        dataset_blend_train[cv_index, j] = y_submission\n",
    "        dataset_blend_test_j[:, i] = clf.predict_proba(X_test)[:, 1]\n",
    "    '''对于测试集，直接用这k个模型的预测值均值作为新的特征。'''\n",
    "    dataset_blend_test[:, j] = dataset_blend_test_j.mean(1)"
   ]
  },
  {
   "cell_type": "code",
   "execution_count": 65,
   "metadata": {},
   "outputs": [],
   "source": [
    "clf = LogisticRegression()\n",
    "clf.fit(dataset_blend_train, y_train)\n",
    "y_submission = clf.predict(dataset_blend_test)"
   ]
  },
  {
   "cell_type": "code",
   "execution_count": 66,
   "metadata": {},
   "outputs": [
    {
     "name": "stdout",
     "output_type": "stream",
     "text": [
      "accuracy: 0.9111111111111111\n"
     ]
    }
   ],
   "source": [
    "acc = accuracy_score(y_test,y_submission)\n",
    "print('accuracy:', acc)"
   ]
  },
  {
   "cell_type": "markdown",
   "metadata": {},
   "source": [
    "交叉验证检测"
   ]
  },
  {
   "cell_type": "code",
   "execution_count": 67,
   "metadata": {},
   "outputs": [
    {
     "name": "stdout",
     "output_type": "stream",
     "text": [
      "Training classifier  0\n",
      "Training classifier  1\n",
      "Training classifier  2\n",
      "Training classifier  3\n",
      "accuracy: 0.9111111111111111\n",
      "Training classifier  0\n",
      "Training classifier  1\n",
      "Training classifier  2\n",
      "Training classifier  3\n",
      "accuracy: 0.8666666666666667\n",
      "Training classifier  0\n",
      "Training classifier  1\n",
      "Training classifier  2\n",
      "Training classifier  3\n",
      "accuracy: 0.8333333333333334\n",
      "Training classifier  0\n",
      "Training classifier  1\n",
      "Training classifier  2\n",
      "Training classifier  3\n",
      "accuracy: 0.8444444444444444\n",
      "Training classifier  0\n",
      "Training classifier  1\n",
      "Training classifier  2\n",
      "Training classifier  3\n",
      "accuracy: 0.9333333333333333\n",
      "Training classifier  0\n",
      "Training classifier  1\n",
      "Training classifier  2\n",
      "Training classifier  3\n",
      "accuracy: 0.8888888888888888\n",
      "Training classifier  0\n",
      "Training classifier  1\n",
      "Training classifier  2\n",
      "Training classifier  3\n",
      "accuracy: 0.9111111111111111\n",
      "Training classifier  0\n",
      "Training classifier  1\n",
      "Training classifier  2\n",
      "Training classifier  3\n",
      "accuracy: 0.8666666666666667\n",
      "Training classifier  0\n",
      "Training classifier  1\n",
      "Training classifier  2\n",
      "Training classifier  3\n",
      "accuracy: 0.8666666666666667\n",
      "Training classifier  0\n",
      "Training classifier  1\n",
      "Training classifier  2\n",
      "Training classifier  3\n",
      "accuracy: 0.8888888888888888\n",
      "mean_acc 0.8811111111111112\n"
     ]
    }
   ],
   "source": [
    "#数据集太简单，似乎并没有什么用\n",
    "train = pd.read_csv('EdTech_train_data.csv')\n",
    "train_X = train.drop(['No','rank'],axis=1)\n",
    "train_y = train['rank']\n",
    "X = train_X.values\n",
    "y = train_y.values\n",
    "y[y!=0]=123\n",
    "accs = []\n",
    "skf = StratifiedKFold(n_splits=10,shuffle=True,random_state=0)\n",
    "for train_index, test_index in skf.split(X, y):\n",
    "    train_indexes.append(train_index)\n",
    "    test_indexes.append(test_index)\n",
    "    X_train, X_test = X[train_index], X[test_index]\n",
    "    y_train, y_test = y[train_index], y[test_index]\n",
    "    dataset_blend_train = np.zeros((X_train.shape[0], len(models)))\n",
    "    dataset_blend_test = np.zeros((X_test.shape[0], len(models)))\n",
    "    skf = StratifiedKFold(n_splits=10,shuffle=True,random_state=0)\n",
    "    skf = list(skf.split(X_train, y_train))\n",
    "    for j, clf in enumerate(models):\n",
    "        print ('Training classifier ' ,j)\n",
    "        dataset_blend_test_j = np.zeros((X_test.shape[0], len(skf))) # Number of testing data x Number of folds , we will take the mean of the predictions later\n",
    "        for i, (train_index, cv_index) in enumerate(skf):\n",
    "    #         print('Fold  ',  i)\n",
    "\n",
    "            X_train_fold, y_train_fold, X_test_fold, y_test_fold = X_train[train_index], y_train[train_index], X_train[cv_index], y_train[cv_index]\n",
    "            clf.fit(X_train_fold, y_train_fold)\n",
    "            y_submission = clf.predict_proba(X_test_fold)[:,1]\n",
    "            dataset_blend_train[cv_index, j] = y_submission\n",
    "            dataset_blend_test_j[:, i] = clf.predict_proba(X_test)[:, 1]\n",
    "        '''对于测试集，直接用这k个模型的预测值均值作为新的特征。'''\n",
    "        dataset_blend_test[:, j] = dataset_blend_test_j.mean(1)\n",
    "    clf = LogisticRegression()\n",
    "    clf.fit(dataset_blend_train, y_train)\n",
    "    y_submission = clf.predict(dataset_blend_test)\n",
    "    acc = accuracy_score(y_test,y_submission)\n",
    "    print('accuracy:', acc)\n",
    "    accs.append(acc)\n",
    "print('mean_acc',np.mean(np.array(accs)))"
   ]
  }
 ],
 "metadata": {
  "kernelspec": {
   "display_name": "Python 3",
   "language": "python",
   "name": "python3"
  },
  "language_info": {
   "codemirror_mode": {
    "name": "ipython",
    "version": 3
   },
   "file_extension": ".py",
   "mimetype": "text/x-python",
   "name": "python",
   "nbconvert_exporter": "python",
   "pygments_lexer": "ipython3",
   "version": "3.6.5"
  }
 },
 "nbformat": 4,
 "nbformat_minor": 2
}
